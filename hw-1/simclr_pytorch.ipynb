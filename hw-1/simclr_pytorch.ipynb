{
  "nbformat": 4,
  "nbformat_minor": 0,
  "metadata": {
    "colab": {
      "name": "simclr_pytorch.ipynb",
      "provenance": []
    },
    "kernelspec": {
      "name": "python3",
      "display_name": "Python 3"
    },
    "language_info": {
      "name": "python"
    },
    "accelerator": "GPU"
  },
  "cells": [
    {
      "cell_type": "code",
      "metadata": {
        "id": "G02T8rtjNw-8"
      },
      "source": [
        "import argparse \n",
        "import torch\n",
        "import torchvision\n",
        "from collections import OrderedDict, namedtuple\n",
        "\n",
        "from PIL import Image\n",
        "import os"
      ],
      "execution_count": 45,
      "outputs": []
    },
    {
      "cell_type": "code",
      "metadata": {
        "colab": {
          "base_uri": "https://localhost:8080/"
        },
        "id": "WzMjbasxO7EL",
        "outputId": "6de30d56-cfeb-4974-f549-bd74d183cde0"
      },
      "source": [
        "!gdown https://drive.google.com/u/1/uc?id=1x3BSoqoe76FcWdbagLj6Mx6_2EAJ982g&export=download"
      ],
      "execution_count": 46,
      "outputs": [
        {
          "output_type": "stream",
          "name": "stdout",
          "text": [
            "Downloading...\n",
            "From: https://drive.google.com/u/1/uc?id=1x3BSoqoe76FcWdbagLj6Mx6_2EAJ982g\n",
            "To: /content/milli_imagenet.zip\n",
            "92.9MB [00:00, 180MB/s]\n"
          ]
        }
      ]
    },
    {
      "cell_type": "code",
      "metadata": {
        "id": "4kZde9-RNyes"
      },
      "source": [
        "import zipfile\n",
        "with zipfile.ZipFile('milli_imagenet.zip', 'r') as zip_ref:\n",
        "  zip_ref.extractall('/content/')"
      ],
      "execution_count": 47,
      "outputs": []
    },
    {
      "cell_type": "code",
      "metadata": {
        "id": "U6ZMHAKeQQo8"
      },
      "source": [
        "def plot_losses(arr, legend_name, fname):\n",
        "    plt.figure(figsize=(10, 10))\n",
        "    sns.set_style('darkgrid')\n",
        "    plt.plot(arr)\n",
        "    plt.legend(legend_name)\n",
        "    plt.savefig(fname)\n",
        "    plt.close()"
      ],
      "execution_count": 48,
      "outputs": []
    },
    {
      "cell_type": "code",
      "metadata": {
        "id": "WlvR-rSLJcxX"
      },
      "source": [
        "import torch.nn as nn\n",
        "from collections import OrderedDict\n",
        "from torchvision.models import resnet18\n",
        "\n",
        "def get_model(args):\n",
        "    # defining our deep learning architecture\n",
        "    resnet = resnet18(pretrained=False)\n",
        "\n",
        "    head = nn.Sequential(OrderedDict([\n",
        "        ('fc1', nn.Linear(resnet.fc.in_features, 100)),\n",
        "        ('added_relu1', nn.ReLU(inplace=True)),\n",
        "        ('fc2', nn.Linear(100, 100)),\n",
        "        ('added_relu2', nn.ReLU(inplace=True)),\n",
        "        ('fc3', nn.Linear(100, 100))\n",
        "    ]))\n",
        "\n",
        "    resnet.fc = head\n",
        "\n",
        "    # if args.multiple_gpus:\n",
        "    #     resnet = nn.DataParallel(resnet)\n",
        "\n",
        "    resnet.to(args.device)\n",
        "\n",
        "    return resnet"
      ],
      "execution_count": 49,
      "outputs": []
    },
    {
      "cell_type": "code",
      "metadata": {
        "id": "AXXNCoCAJ9F6"
      },
      "source": [
        "tau = 0.05\n",
        "\n",
        "def loss_function(a, b):\n",
        "    a_norm = torch.norm(a, dim=1).reshape(-1, 1)\n",
        "    a_cap = torch.div(a, a_norm)\n",
        "    b_norm = torch.norm(b, dim=1).reshape(-1, 1)\n",
        "    b_cap = torch.div(b, b_norm)\n",
        "    a_cap_b_cap = torch.cat([a_cap, b_cap], dim=0)\n",
        "    a_cap_b_cap_transpose = torch.t(a_cap_b_cap)\n",
        "    b_cap_a_cap = torch.cat([b_cap, a_cap], dim=0)\n",
        "    sim = torch.mm(a_cap_b_cap, a_cap_b_cap_transpose)\n",
        "    sim_by_tau = torch.div(sim, tau)\n",
        "    exp_sim_by_tau = torch.exp(sim_by_tau)\n",
        "    sum_of_rows = torch.sum(exp_sim_by_tau, dim=1)\n",
        "    exp_sim_by_tau_diag = torch.diag(exp_sim_by_tau)\n",
        "    numerators = torch.exp(torch.div(torch.nn.CosineSimilarity()(a_cap_b_cap, b_cap_a_cap), tau))\n",
        "    denominators = sum_of_rows - exp_sim_by_tau_diag\n",
        "    num_by_den = torch.div(numerators, denominators)\n",
        "    neglog_num_by_den = -torch.log(num_by_den)\n",
        "    return torch.mean(neglog_num_by_den)"
      ],
      "execution_count": 50,
      "outputs": []
    },
    {
      "cell_type": "code",
      "metadata": {
        "id": "mzLGiC7geIxr"
      },
      "source": [
        "class TrainDataset(torch.utils.data.Dataset):\n",
        "    def __init__(self, args):\n",
        "        self.args = args\n",
        "        with open(os.path.join(args.datapath, \"train\",\"names.txt\")) as f:\n",
        "            self.filenames = f.read().split('\\n')\n",
        " \n",
        "    def __len__(self):\n",
        "        return len(self.filenames)\n",
        "\n",
        "    def tensorify(self, img):\n",
        "        return transforms.Normalize((0.5, 0.5, 0.5), (0.5, 0.5, 0.5))(\n",
        "            transforms.ToTensor()(img)\n",
        "            )\n",
        "    \n",
        "    def get_color_distortion(self, s=1.0):\n",
        "        color_jitter = transforms.ColorJitter(0.8 * s, 0.8 * s, 0.8 * s, 0.2 * s)\n",
        "        rnd_color_jitter =  transforms.RandomApply([color_jitter], p=0.8)\n",
        "        rnd_gray =  transforms.RandomGrayscale(p=0.2)\n",
        "        color_distort =  transforms.Compose([rnd_color_jitter, rnd_gray])\n",
        "        return color_distort\n",
        "\n",
        "    def augmented_image(self, img):\n",
        "        return self.get_color_distortion(1)(\n",
        "            transforms.RandomResizedCrop(224)(img)\n",
        "            )    \n",
        "\n",
        "    def __getitem__(self, idx):\n",
        "        img = transforms.Resize((224, 224))(\n",
        "                                Image.open(os.path.join(args.datapath, 'train', self.filenames[idx])).convert('RGB')\n",
        "                            )\n",
        "        return {\n",
        "        'image1':self.tensorify(\n",
        "            self.augmented_image(img)\n",
        "            ), \n",
        "        'image2': self.tensorify(\n",
        "            self.augmented_image(img)\n",
        "            )\n",
        "        }"
      ],
      "execution_count": 51,
      "outputs": []
    },
    {
      "cell_type": "code",
      "metadata": {
        "id": "e-uqeBJAeRBp"
      },
      "source": [
        "tau = 0.05\n",
        "\n",
        "def loss_function(a, b):\n",
        "    a_norm = torch.norm(a, dim=1).reshape(-1, 1)\n",
        "    a_cap = torch.div(a, a_norm)\n",
        "    b_norm = torch.norm(b, dim=1).reshape(-1, 1)\n",
        "    b_cap = torch.div(b, b_norm)\n",
        "    a_cap_b_cap = torch.cat([a_cap, b_cap], dim=0)\n",
        "    a_cap_b_cap_transpose = torch.t(a_cap_b_cap)\n",
        "    b_cap_a_cap = torch.cat([b_cap, a_cap], dim=0)\n",
        "    sim = torch.mm(a_cap_b_cap, a_cap_b_cap_transpose)\n",
        "    sim_by_tau = torch.div(sim, tau)\n",
        "    exp_sim_by_tau = torch.exp(sim_by_tau)\n",
        "    sum_of_rows = torch.sum(exp_sim_by_tau, dim=1)\n",
        "    exp_sim_by_tau_diag = torch.diag(exp_sim_by_tau)\n",
        "    numerators = torch.exp(torch.div(torch.nn.CosineSimilarity()(a_cap_b_cap, b_cap_a_cap), tau))\n",
        "    denominators = sum_of_rows - exp_sim_by_tau_diag\n",
        "    num_by_den = torch.div(numerators, denominators)\n",
        "    neglog_num_by_den = -torch.log(num_by_den)\n",
        "    return torch.mean(neglog_num_by_den)\n",
        "\n",
        "def plot_losses(arr, legend_name):\n",
        "    plt.figure(figsize=(10, 10))\n",
        "    sns.set_style('darkgrid')\n",
        "    plt.plot(arr)\n",
        "    plt.xlabel('Steps')\n",
        "    plt.ylabel('Loss')\n",
        "    plt.show()"
      ],
      "execution_count": 52,
      "outputs": []
    },
    {
      "cell_type": "code",
      "metadata": {
        "id": "hnFDjC4neUxp"
      },
      "source": [
        "class SimCLR:\n",
        "    def __init__(self, model, optimizer, dataloaders, loss_fn):\n",
        "        self.model = model\n",
        "        self.optimizer = optimizer\n",
        "        self.dataloaders = dataloaders\n",
        "        self.loss_fn = loss_fn\n",
        "\n",
        "    def train(self, args, num_epochs, log_interval):\n",
        "        batch_losses = []\n",
        "\n",
        "        self.model.train()\n",
        "    \n",
        "        # run a for loop for num_epochs\n",
        "        for epoch in range(num_epochs):\n",
        "\n",
        "            # run a for loop for each batch\n",
        "            for step, batch in enumerate(self.dataloaders['train']):\n",
        "                # zero out grads\n",
        "                self.optimizer.zero_grad()\n",
        "\n",
        "                x1 = batch['image1'].to(args.device)\n",
        "                x2 = batch['image2'].to(args.device)\n",
        "\n",
        "                # get their outputs\n",
        "                y1 = self.model(x1)\n",
        "                y2 = self.model(x2)\n",
        "\n",
        "                # get loss value\n",
        "                loss = self.loss_fn(y1, y2)\n",
        "\n",
        "                batch_losses.append(loss.cpu().data.item())\n",
        "\n",
        "                # perform backprop on loss value to get gradient values\n",
        "                loss.backward()\n",
        "\n",
        "                # run the optimizer\n",
        "                self.optimizer.step()\n",
        "                \n",
        "                if step % log_interval == 0:\n",
        "                    print(f'Epoch: {epoch} / {num_epochs} Step: {step} Loss: {loss.item()}')\n",
        "                \n",
        "                if step >= 5:\n",
        "                     break\n",
        "            \n",
        "        plot_losses(batch_losses, 'Training Losses')"
      ],
      "execution_count": 53,
      "outputs": []
    },
    {
      "cell_type": "code",
      "metadata": {
        "colab": {
          "base_uri": "https://localhost:8080/",
          "height": 796
        },
        "id": "9Cbv8RrKfwyO",
        "outputId": "88a97abf-2d10-467b-d545-1f02b2c02ee2"
      },
      "source": [
        "import matplotlib.pyplot as plt\n",
        "import seaborn as sns\n",
        "\n",
        "args = {\n",
        "    'datapath': '/content/milli_imagenet',\n",
        "    'cuda': False,\n",
        "    'batch_size': 8,\n",
        "    'num_workers': 2,\n",
        "    'multiple_gpus': False,\n",
        "}\n",
        "args['device'] = torch.device('cuda' if args['cuda'] else 'cpu')\n",
        "args = namedtuple('Args', args.keys())(*args.values())\n",
        "\n",
        "model = get_model(args)\n",
        "\n",
        "optimizer = torch.optim.Adam(\n",
        "    model.parameters(), \n",
        "    lr=0.001, \n",
        "    weight_decay=1e-4\n",
        "    )\n",
        "\n",
        "dataloaders = {}\n",
        "ds = TrainDataset(args)\n",
        "print(f'{len(ds)} images found for training')\n",
        "\n",
        "dataloaders['train'] = torch.utils.data.DataLoader(\n",
        "    ds, \n",
        "    batch_size=args.batch_size, \n",
        "    shuffle=True, \n",
        "    num_workers=args.num_workers\n",
        "    )\n",
        "\n",
        "loss_fn = loss_function\n",
        "simclrobj = SimCLR(model, optimizer, dataloaders, loss_fn)\n",
        "simclrobj.train(args, 5, 5)"
      ],
      "execution_count": 54,
      "outputs": [
        {
          "output_type": "stream",
          "name": "stdout",
          "text": [
            "1250 images found for training\n",
            "Epoch: 0 / 5 Step: 0 Loss: 2.561591386795044\n",
            "Epoch: 0 / 5 Step: 5 Loss: 2.5149145126342773\n",
            "Epoch: 1 / 5 Step: 0 Loss: 2.682041645050049\n",
            "Epoch: 1 / 5 Step: 5 Loss: 2.5259621143341064\n",
            "Epoch: 2 / 5 Step: 0 Loss: 2.5373167991638184\n",
            "Epoch: 2 / 5 Step: 5 Loss: 2.6612515449523926\n",
            "Epoch: 3 / 5 Step: 0 Loss: 2.6900250911712646\n",
            "Epoch: 3 / 5 Step: 5 Loss: 2.6831727027893066\n",
            "Epoch: 4 / 5 Step: 0 Loss: 2.6177172660827637\n",
            "Epoch: 4 / 5 Step: 5 Loss: 2.6544291973114014\n"
          ]
        },
        {
          "output_type": "display_data",
          "data": {
            "image/png": "[encoded data removed]",
            "text/plain": [
              "<Figure size 720x720 with 1 Axes>"
            ]
          },
          "metadata": {}
        }
      ]
    }
  ]
}