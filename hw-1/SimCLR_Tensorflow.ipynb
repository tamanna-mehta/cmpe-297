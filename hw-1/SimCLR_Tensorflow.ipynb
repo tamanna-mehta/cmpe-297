{
  "nbformat": 4,
  "nbformat_minor": 0,
  "metadata": {
    "accelerator": "GPU",
    "colab": {
      "name": "SimCLR_Tensorflow.ipynb",
      "provenance": [],
      "collapsed_sections": []
    },
    "kernelspec": {
      "display_name": "Python 3",
      "language": "python",
      "name": "python3"
    },
    "language_info": {
      "codemirror_mode": {
        "name": "ipython",
        "version": 3
      },
      "file_extension": ".py",
      "mimetype": "text/x-python",
      "name": "python",
      "nbconvert_exporter": "python",
      "pygments_lexer": "ipython3",
      "version": "3.7.1"
    },
    "widgets": {
      "application/vnd.jupyter.widget-state+json": {
        "43b539a961bc4ff2a2aef2b8fac3df9b": {
          "model_module": "@jupyter-widgets/controls",
          "model_name": "VBoxModel",
          "model_module_version": "1.5.0",
          "state": {
            "_view_name": "VBoxView",
            "_dom_classes": [],
            "_model_name": "VBoxModel",
            "_view_module": "@jupyter-widgets/controls",
            "_model_module_version": "1.5.0",
            "_view_count": null,
            "_view_module_version": "1.5.0",
            "box_style": "",
            "layout": "IPY_MODEL_84da23f603424664b0bbe66f05a89c24",
            "_model_module": "@jupyter-widgets/controls",
            "children": [
              "IPY_MODEL_a0e69c30f9af42f6a0ee1f7a7f2d72d1",
              "IPY_MODEL_75e2fb101d7e4eb4a27cbbcc5d489dce"
            ]
          }
        },
        "84da23f603424664b0bbe66f05a89c24": {
          "model_module": "@jupyter-widgets/base",
          "model_name": "LayoutModel",
          "model_module_version": "1.2.0",
          "state": {
            "_view_name": "LayoutView",
            "grid_template_rows": null,
            "right": null,
            "justify_content": null,
            "_view_module": "@jupyter-widgets/base",
            "overflow": null,
            "_model_module_version": "1.2.0",
            "_view_count": null,
            "flex_flow": null,
            "width": null,
            "min_width": null,
            "border": null,
            "align_items": null,
            "bottom": null,
            "_model_module": "@jupyter-widgets/base",
            "top": null,
            "grid_column": null,
            "overflow_y": null,
            "overflow_x": null,
            "grid_auto_flow": null,
            "grid_area": null,
            "grid_template_columns": null,
            "flex": null,
            "_model_name": "LayoutModel",
            "justify_items": null,
            "grid_row": null,
            "max_height": null,
            "align_content": null,
            "visibility": null,
            "align_self": null,
            "height": null,
            "min_height": null,
            "padding": null,
            "grid_auto_rows": null,
            "grid_gap": null,
            "max_width": null,
            "order": null,
            "_view_module_version": "1.2.0",
            "grid_template_areas": null,
            "object_position": null,
            "object_fit": null,
            "grid_auto_columns": null,
            "margin": null,
            "display": null,
            "left": null
          }
        },
        "a0e69c30f9af42f6a0ee1f7a7f2d72d1": {
          "model_module": "@jupyter-widgets/controls",
          "model_name": "LabelModel",
          "model_module_version": "1.5.0",
          "state": {
            "_view_name": "LabelView",
            "style": "IPY_MODEL_b37f4bd8465c4cf6a5caa1bd49e90b9b",
            "_dom_classes": [],
            "description": "",
            "_model_name": "LabelModel",
            "placeholder": "​",
            "_view_module": "@jupyter-widgets/controls",
            "_model_module_version": "1.5.0",
            "value": " 0.01MB of 0.01MB uploaded (0.00MB deduped)\r",
            "_view_count": null,
            "_view_module_version": "1.5.0",
            "description_tooltip": null,
            "_model_module": "@jupyter-widgets/controls",
            "layout": "IPY_MODEL_40525ee1cf8f4bb99b4a802af6fad9fe"
          }
        },
        "75e2fb101d7e4eb4a27cbbcc5d489dce": {
          "model_module": "@jupyter-widgets/controls",
          "model_name": "FloatProgressModel",
          "model_module_version": "1.5.0",
          "state": {
            "_view_name": "ProgressView",
            "style": "IPY_MODEL_f372af3eb23943f39a2c47aef8d8a4e3",
            "_dom_classes": [],
            "description": "",
            "_model_name": "FloatProgressModel",
            "bar_style": "",
            "max": 1,
            "_view_module": "@jupyter-widgets/controls",
            "_model_module_version": "1.5.0",
            "value": 1,
            "_view_count": null,
            "_view_module_version": "1.5.0",
            "orientation": "horizontal",
            "min": 0,
            "description_tooltip": null,
            "_model_module": "@jupyter-widgets/controls",
            "layout": "IPY_MODEL_e8d9262469d749089309f8f716db5480"
          }
        },
        "b37f4bd8465c4cf6a5caa1bd49e90b9b": {
          "model_module": "@jupyter-widgets/controls",
          "model_name": "DescriptionStyleModel",
          "model_module_version": "1.5.0",
          "state": {
            "_view_name": "StyleView",
            "_model_name": "DescriptionStyleModel",
            "description_width": "",
            "_view_module": "@jupyter-widgets/base",
            "_model_module_version": "1.5.0",
            "_view_count": null,
            "_view_module_version": "1.2.0",
            "_model_module": "@jupyter-widgets/controls"
          }
        },
        "40525ee1cf8f4bb99b4a802af6fad9fe": {
          "model_module": "@jupyter-widgets/base",
          "model_name": "LayoutModel",
          "model_module_version": "1.2.0",
          "state": {
            "_view_name": "LayoutView",
            "grid_template_rows": null,
            "right": null,
            "justify_content": null,
            "_view_module": "@jupyter-widgets/base",
            "overflow": null,
            "_model_module_version": "1.2.0",
            "_view_count": null,
            "flex_flow": null,
            "width": null,
            "min_width": null,
            "border": null,
            "align_items": null,
            "bottom": null,
            "_model_module": "@jupyter-widgets/base",
            "top": null,
            "grid_column": null,
            "overflow_y": null,
            "overflow_x": null,
            "grid_auto_flow": null,
            "grid_area": null,
            "grid_template_columns": null,
            "flex": null,
            "_model_name": "LayoutModel",
            "justify_items": null,
            "grid_row": null,
            "max_height": null,
            "align_content": null,
            "visibility": null,
            "align_self": null,
            "height": null,
            "min_height": null,
            "padding": null,
            "grid_auto_rows": null,
            "grid_gap": null,
            "max_width": null,
            "order": null,
            "_view_module_version": "1.2.0",
            "grid_template_areas": null,
            "object_position": null,
            "object_fit": null,
            "grid_auto_columns": null,
            "margin": null,
            "display": null,
            "left": null
          }
        },
        "f372af3eb23943f39a2c47aef8d8a4e3": {
          "model_module": "@jupyter-widgets/controls",
          "model_name": "ProgressStyleModel",
          "model_module_version": "1.5.0",
          "state": {
            "_view_name": "StyleView",
            "_model_name": "ProgressStyleModel",
            "description_width": "",
            "_view_module": "@jupyter-widgets/base",
            "_model_module_version": "1.5.0",
            "_view_count": null,
            "_view_module_version": "1.2.0",
            "bar_color": null,
            "_model_module": "@jupyter-widgets/controls"
          }
        },
        "e8d9262469d749089309f8f716db5480": {
          "model_module": "@jupyter-widgets/base",
          "model_name": "LayoutModel",
          "model_module_version": "1.2.0",
          "state": {
            "_view_name": "LayoutView",
            "grid_template_rows": null,
            "right": null,
            "justify_content": null,
            "_view_module": "@jupyter-widgets/base",
            "overflow": null,
            "_model_module_version": "1.2.0",
            "_view_count": null,
            "flex_flow": null,
            "width": null,
            "min_width": null,
            "border": null,
            "align_items": null,
            "bottom": null,
            "_model_module": "@jupyter-widgets/base",
            "top": null,
            "grid_column": null,
            "overflow_y": null,
            "overflow_x": null,
            "grid_auto_flow": null,
            "grid_area": null,
            "grid_template_columns": null,
            "flex": null,
            "_model_name": "LayoutModel",
            "justify_items": null,
            "grid_row": null,
            "max_height": null,
            "align_content": null,
            "visibility": null,
            "align_self": null,
            "height": null,
            "min_height": null,
            "padding": null,
            "grid_auto_rows": null,
            "grid_gap": null,
            "max_width": null,
            "order": null,
            "_view_module_version": "1.2.0",
            "grid_template_areas": null,
            "object_position": null,
            "object_fit": null,
            "grid_auto_columns": null,
            "margin": null,
            "display": null,
            "left": null
          }
        },
        "ae54a7726a8d48bcb0d6933d96d713e5": {
          "model_module": "@jupyter-widgets/controls",
          "model_name": "VBoxModel",
          "model_module_version": "1.5.0",
          "state": {
            "_view_name": "VBoxView",
            "_dom_classes": [],
            "_model_name": "VBoxModel",
            "_view_module": "@jupyter-widgets/controls",
            "_model_module_version": "1.5.0",
            "_view_count": null,
            "_view_module_version": "1.5.0",
            "box_style": "",
            "layout": "IPY_MODEL_347506ec2f9c46e890091f3946bdb57b",
            "_model_module": "@jupyter-widgets/controls",
            "children": [
              "IPY_MODEL_13f1cc9d904243068912527c8cb9df19",
              "IPY_MODEL_c9f10ce991a245259e8dc9c4de489e5b"
            ]
          }
        },
        "347506ec2f9c46e890091f3946bdb57b": {
          "model_module": "@jupyter-widgets/base",
          "model_name": "LayoutModel",
          "model_module_version": "1.2.0",
          "state": {
            "_view_name": "LayoutView",
            "grid_template_rows": null,
            "right": null,
            "justify_content": null,
            "_view_module": "@jupyter-widgets/base",
            "overflow": null,
            "_model_module_version": "1.2.0",
            "_view_count": null,
            "flex_flow": null,
            "width": null,
            "min_width": null,
            "border": null,
            "align_items": null,
            "bottom": null,
            "_model_module": "@jupyter-widgets/base",
            "top": null,
            "grid_column": null,
            "overflow_y": null,
            "overflow_x": null,
            "grid_auto_flow": null,
            "grid_area": null,
            "grid_template_columns": null,
            "flex": null,
            "_model_name": "LayoutModel",
            "justify_items": null,
            "grid_row": null,
            "max_height": null,
            "align_content": null,
            "visibility": null,
            "align_self": null,
            "height": null,
            "min_height": null,
            "padding": null,
            "grid_auto_rows": null,
            "grid_gap": null,
            "max_width": null,
            "order": null,
            "_view_module_version": "1.2.0",
            "grid_template_areas": null,
            "object_position": null,
            "object_fit": null,
            "grid_auto_columns": null,
            "margin": null,
            "display": null,
            "left": null
          }
        },
        "13f1cc9d904243068912527c8cb9df19": {
          "model_module": "@jupyter-widgets/controls",
          "model_name": "LabelModel",
          "model_module_version": "1.5.0",
          "state": {
            "_view_name": "LabelView",
            "style": "IPY_MODEL_98d2d789f2054506acc3a7fd8eb3465c",
            "_dom_classes": [],
            "description": "",
            "_model_name": "LabelModel",
            "placeholder": "​",
            "_view_module": "@jupyter-widgets/controls",
            "_model_module_version": "1.5.0",
            "value": " 0.01MB of 0.01MB uploaded (0.00MB deduped)\r",
            "_view_count": null,
            "_view_module_version": "1.5.0",
            "description_tooltip": null,
            "_model_module": "@jupyter-widgets/controls",
            "layout": "IPY_MODEL_25b6f6d2f65048539371b8bd88db34d9"
          }
        },
        "c9f10ce991a245259e8dc9c4de489e5b": {
          "model_module": "@jupyter-widgets/controls",
          "model_name": "FloatProgressModel",
          "model_module_version": "1.5.0",
          "state": {
            "_view_name": "ProgressView",
            "style": "IPY_MODEL_46fa06b480464e7bad201693242ffd95",
            "_dom_classes": [],
            "description": "",
            "_model_name": "FloatProgressModel",
            "bar_style": "",
            "max": 1,
            "_view_module": "@jupyter-widgets/controls",
            "_model_module_version": "1.5.0",
            "value": 1,
            "_view_count": null,
            "_view_module_version": "1.5.0",
            "orientation": "horizontal",
            "min": 0,
            "description_tooltip": null,
            "_model_module": "@jupyter-widgets/controls",
            "layout": "IPY_MODEL_657e744ec0384b8ea1fd5452eb6ffb47"
          }
        },
        "98d2d789f2054506acc3a7fd8eb3465c": {
          "model_module": "@jupyter-widgets/controls",
          "model_name": "DescriptionStyleModel",
          "model_module_version": "1.5.0",
          "state": {
            "_view_name": "StyleView",
            "_model_name": "DescriptionStyleModel",
            "description_width": "",
            "_view_module": "@jupyter-widgets/base",
            "_model_module_version": "1.5.0",
            "_view_count": null,
            "_view_module_version": "1.2.0",
            "_model_module": "@jupyter-widgets/controls"
          }
        },
        "25b6f6d2f65048539371b8bd88db34d9": {
          "model_module": "@jupyter-widgets/base",
          "model_name": "LayoutModel",
          "model_module_version": "1.2.0",
          "state": {
            "_view_name": "LayoutView",
            "grid_template_rows": null,
            "right": null,
            "justify_content": null,
            "_view_module": "@jupyter-widgets/base",
            "overflow": null,
            "_model_module_version": "1.2.0",
            "_view_count": null,
            "flex_flow": null,
            "width": null,
            "min_width": null,
            "border": null,
            "align_items": null,
            "bottom": null,
            "_model_module": "@jupyter-widgets/base",
            "top": null,
            "grid_column": null,
            "overflow_y": null,
            "overflow_x": null,
            "grid_auto_flow": null,
            "grid_area": null,
            "grid_template_columns": null,
            "flex": null,
            "_model_name": "LayoutModel",
            "justify_items": null,
            "grid_row": null,
            "max_height": null,
            "align_content": null,
            "visibility": null,
            "align_self": null,
            "height": null,
            "min_height": null,
            "padding": null,
            "grid_auto_rows": null,
            "grid_gap": null,
            "max_width": null,
            "order": null,
            "_view_module_version": "1.2.0",
            "grid_template_areas": null,
            "object_position": null,
            "object_fit": null,
            "grid_auto_columns": null,
            "margin": null,
            "display": null,
            "left": null
          }
        },
        "46fa06b480464e7bad201693242ffd95": {
          "model_module": "@jupyter-widgets/controls",
          "model_name": "ProgressStyleModel",
          "model_module_version": "1.5.0",
          "state": {
            "_view_name": "StyleView",
            "_model_name": "ProgressStyleModel",
            "description_width": "",
            "_view_module": "@jupyter-widgets/base",
            "_model_module_version": "1.5.0",
            "_view_count": null,
            "_view_module_version": "1.2.0",
            "bar_color": null,
            "_model_module": "@jupyter-widgets/controls"
          }
        },
        "657e744ec0384b8ea1fd5452eb6ffb47": {
          "model_module": "@jupyter-widgets/base",
          "model_name": "LayoutModel",
          "model_module_version": "1.2.0",
          "state": {
            "_view_name": "LayoutView",
            "grid_template_rows": null,
            "right": null,
            "justify_content": null,
            "_view_module": "@jupyter-widgets/base",
            "overflow": null,
            "_model_module_version": "1.2.0",
            "_view_count": null,
            "flex_flow": null,
            "width": null,
            "min_width": null,
            "border": null,
            "align_items": null,
            "bottom": null,
            "_model_module": "@jupyter-widgets/base",
            "top": null,
            "grid_column": null,
            "overflow_y": null,
            "overflow_x": null,
            "grid_auto_flow": null,
            "grid_area": null,
            "grid_template_columns": null,
            "flex": null,
            "_model_name": "LayoutModel",
            "justify_items": null,
            "grid_row": null,
            "max_height": null,
            "align_content": null,
            "visibility": null,
            "align_self": null,
            "height": null,
            "min_height": null,
            "padding": null,
            "grid_auto_rows": null,
            "grid_gap": null,
            "max_width": null,
            "order": null,
            "_view_module_version": "1.2.0",
            "grid_template_areas": null,
            "object_position": null,
            "object_fit": null,
            "grid_auto_columns": null,
            "margin": null,
            "display": null,
            "left": null
          }
        },
        "9989979dd7ee4ae8a57e65035e257f4e": {
          "model_module": "@jupyter-widgets/controls",
          "model_name": "VBoxModel",
          "model_module_version": "1.5.0",
          "state": {
            "_view_name": "VBoxView",
            "_dom_classes": [],
            "_model_name": "VBoxModel",
            "_view_module": "@jupyter-widgets/controls",
            "_model_module_version": "1.5.0",
            "_view_count": null,
            "_view_module_version": "1.5.0",
            "box_style": "",
            "layout": "IPY_MODEL_6d74d8d25ce64a5dba591fafc0952c52",
            "_model_module": "@jupyter-widgets/controls",
            "children": [
              "IPY_MODEL_12f2489e27ea4fc4b8fde910cd0a164c",
              "IPY_MODEL_8b035a91015a43c0a64d174b9498fd47"
            ]
          }
        },
        "6d74d8d25ce64a5dba591fafc0952c52": {
          "model_module": "@jupyter-widgets/base",
          "model_name": "LayoutModel",
          "model_module_version": "1.2.0",
          "state": {
            "_view_name": "LayoutView",
            "grid_template_rows": null,
            "right": null,
            "justify_content": null,
            "_view_module": "@jupyter-widgets/base",
            "overflow": null,
            "_model_module_version": "1.2.0",
            "_view_count": null,
            "flex_flow": null,
            "width": null,
            "min_width": null,
            "border": null,
            "align_items": null,
            "bottom": null,
            "_model_module": "@jupyter-widgets/base",
            "top": null,
            "grid_column": null,
            "overflow_y": null,
            "overflow_x": null,
            "grid_auto_flow": null,
            "grid_area": null,
            "grid_template_columns": null,
            "flex": null,
            "_model_name": "LayoutModel",
            "justify_items": null,
            "grid_row": null,
            "max_height": null,
            "align_content": null,
            "visibility": null,
            "align_self": null,
            "height": null,
            "min_height": null,
            "padding": null,
            "grid_auto_rows": null,
            "grid_gap": null,
            "max_width": null,
            "order": null,
            "_view_module_version": "1.2.0",
            "grid_template_areas": null,
            "object_position": null,
            "object_fit": null,
            "grid_auto_columns": null,
            "margin": null,
            "display": null,
            "left": null
          }
        },
        "12f2489e27ea4fc4b8fde910cd0a164c": {
          "model_module": "@jupyter-widgets/controls",
          "model_name": "LabelModel",
          "model_module_version": "1.5.0",
          "state": {
            "_view_name": "LabelView",
            "style": "IPY_MODEL_705926c3b2574e0eb991efe4305bcd48",
            "_dom_classes": [],
            "description": "",
            "_model_name": "LabelModel",
            "placeholder": "​",
            "_view_module": "@jupyter-widgets/controls",
            "_model_module_version": "1.5.0",
            "value": " 0.04MB of 0.04MB uploaded (0.00MB deduped)\r",
            "_view_count": null,
            "_view_module_version": "1.5.0",
            "description_tooltip": null,
            "_model_module": "@jupyter-widgets/controls",
            "layout": "IPY_MODEL_82dcdbcd0b124593af9f18c68dc42e08"
          }
        },
        "8b035a91015a43c0a64d174b9498fd47": {
          "model_module": "@jupyter-widgets/controls",
          "model_name": "FloatProgressModel",
          "model_module_version": "1.5.0",
          "state": {
            "_view_name": "ProgressView",
            "style": "IPY_MODEL_e0d9643ad6d84d6386aa51164f242810",
            "_dom_classes": [],
            "description": "",
            "_model_name": "FloatProgressModel",
            "bar_style": "",
            "max": 1,
            "_view_module": "@jupyter-widgets/controls",
            "_model_module_version": "1.5.0",
            "value": 1,
            "_view_count": null,
            "_view_module_version": "1.5.0",
            "orientation": "horizontal",
            "min": 0,
            "description_tooltip": null,
            "_model_module": "@jupyter-widgets/controls",
            "layout": "IPY_MODEL_59630fdc913e4640a17671cc546d765d"
          }
        },
        "705926c3b2574e0eb991efe4305bcd48": {
          "model_module": "@jupyter-widgets/controls",
          "model_name": "DescriptionStyleModel",
          "model_module_version": "1.5.0",
          "state": {
            "_view_name": "StyleView",
            "_model_name": "DescriptionStyleModel",
            "description_width": "",
            "_view_module": "@jupyter-widgets/base",
            "_model_module_version": "1.5.0",
            "_view_count": null,
            "_view_module_version": "1.2.0",
            "_model_module": "@jupyter-widgets/controls"
          }
        },
        "82dcdbcd0b124593af9f18c68dc42e08": {
          "model_module": "@jupyter-widgets/base",
          "model_name": "LayoutModel",
          "model_module_version": "1.2.0",
          "state": {
            "_view_name": "LayoutView",
            "grid_template_rows": null,
            "right": null,
            "justify_content": null,
            "_view_module": "@jupyter-widgets/base",
            "overflow": null,
            "_model_module_version": "1.2.0",
            "_view_count": null,
            "flex_flow": null,
            "width": null,
            "min_width": null,
            "border": null,
            "align_items": null,
            "bottom": null,
            "_model_module": "@jupyter-widgets/base",
            "top": null,
            "grid_column": null,
            "overflow_y": null,
            "overflow_x": null,
            "grid_auto_flow": null,
            "grid_area": null,
            "grid_template_columns": null,
            "flex": null,
            "_model_name": "LayoutModel",
            "justify_items": null,
            "grid_row": null,
            "max_height": null,
            "align_content": null,
            "visibility": null,
            "align_self": null,
            "height": null,
            "min_height": null,
            "padding": null,
            "grid_auto_rows": null,
            "grid_gap": null,
            "max_width": null,
            "order": null,
            "_view_module_version": "1.2.0",
            "grid_template_areas": null,
            "object_position": null,
            "object_fit": null,
            "grid_auto_columns": null,
            "margin": null,
            "display": null,
            "left": null
          }
        },
        "e0d9643ad6d84d6386aa51164f242810": {
          "model_module": "@jupyter-widgets/controls",
          "model_name": "ProgressStyleModel",
          "model_module_version": "1.5.0",
          "state": {
            "_view_name": "StyleView",
            "_model_name": "ProgressStyleModel",
            "description_width": "",
            "_view_module": "@jupyter-widgets/base",
            "_model_module_version": "1.5.0",
            "_view_count": null,
            "_view_module_version": "1.2.0",
            "bar_color": null,
            "_model_module": "@jupyter-widgets/controls"
          }
        },
        "59630fdc913e4640a17671cc546d765d": {
          "model_module": "@jupyter-widgets/base",
          "model_name": "LayoutModel",
          "model_module_version": "1.2.0",
          "state": {
            "_view_name": "LayoutView",
            "grid_template_rows": null,
            "right": null,
            "justify_content": null,
            "_view_module": "@jupyter-widgets/base",
            "overflow": null,
            "_model_module_version": "1.2.0",
            "_view_count": null,
            "flex_flow": null,
            "width": null,
            "min_width": null,
            "border": null,
            "align_items": null,
            "bottom": null,
            "_model_module": "@jupyter-widgets/base",
            "top": null,
            "grid_column": null,
            "overflow_y": null,
            "overflow_x": null,
            "grid_auto_flow": null,
            "grid_area": null,
            "grid_template_columns": null,
            "flex": null,
            "_model_name": "LayoutModel",
            "justify_items": null,
            "grid_row": null,
            "max_height": null,
            "align_content": null,
            "visibility": null,
            "align_self": null,
            "height": null,
            "min_height": null,
            "padding": null,
            "grid_auto_rows": null,
            "grid_gap": null,
            "max_width": null,
            "order": null,
            "_view_module_version": "1.2.0",
            "grid_template_areas": null,
            "object_position": null,
            "object_fit": null,
            "grid_auto_columns": null,
            "margin": null,
            "display": null,
            "left": null
          }
        },
        "c78722a6b4414592a7b2d06c387a69be": {
          "model_module": "@jupyter-widgets/controls",
          "model_name": "VBoxModel",
          "model_module_version": "1.5.0",
          "state": {
            "_view_name": "VBoxView",
            "_dom_classes": [],
            "_model_name": "VBoxModel",
            "_view_module": "@jupyter-widgets/controls",
            "_model_module_version": "1.5.0",
            "_view_count": null,
            "_view_module_version": "1.5.0",
            "box_style": "",
            "layout": "IPY_MODEL_50c4be5b47aa4340a0faff3aa0866ffd",
            "_model_module": "@jupyter-widgets/controls",
            "children": [
              "IPY_MODEL_b5c772982e2b4bc691d6b3058f8c4bfa",
              "IPY_MODEL_34657e8d0b1d4f51a03c115e45bf9495"
            ]
          }
        },
        "50c4be5b47aa4340a0faff3aa0866ffd": {
          "model_module": "@jupyter-widgets/base",
          "model_name": "LayoutModel",
          "model_module_version": "1.2.0",
          "state": {
            "_view_name": "LayoutView",
            "grid_template_rows": null,
            "right": null,
            "justify_content": null,
            "_view_module": "@jupyter-widgets/base",
            "overflow": null,
            "_model_module_version": "1.2.0",
            "_view_count": null,
            "flex_flow": null,
            "width": null,
            "min_width": null,
            "border": null,
            "align_items": null,
            "bottom": null,
            "_model_module": "@jupyter-widgets/base",
            "top": null,
            "grid_column": null,
            "overflow_y": null,
            "overflow_x": null,
            "grid_auto_flow": null,
            "grid_area": null,
            "grid_template_columns": null,
            "flex": null,
            "_model_name": "LayoutModel",
            "justify_items": null,
            "grid_row": null,
            "max_height": null,
            "align_content": null,
            "visibility": null,
            "align_self": null,
            "height": null,
            "min_height": null,
            "padding": null,
            "grid_auto_rows": null,
            "grid_gap": null,
            "max_width": null,
            "order": null,
            "_view_module_version": "1.2.0",
            "grid_template_areas": null,
            "object_position": null,
            "object_fit": null,
            "grid_auto_columns": null,
            "margin": null,
            "display": null,
            "left": null
          }
        },
        "b5c772982e2b4bc691d6b3058f8c4bfa": {
          "model_module": "@jupyter-widgets/controls",
          "model_name": "LabelModel",
          "model_module_version": "1.5.0",
          "state": {
            "_view_name": "LabelView",
            "style": "IPY_MODEL_2ef27533eb084f51963c63abdf5df7a0",
            "_dom_classes": [],
            "description": "",
            "_model_name": "LabelModel",
            "placeholder": "​",
            "_view_module": "@jupyter-widgets/controls",
            "_model_module_version": "1.5.0",
            "value": " 0.05MB of 0.05MB uploaded (0.00MB deduped)\r",
            "_view_count": null,
            "_view_module_version": "1.5.0",
            "description_tooltip": null,
            "_model_module": "@jupyter-widgets/controls",
            "layout": "IPY_MODEL_62b35080606e4e818253f71b7214387a"
          }
        },
        "34657e8d0b1d4f51a03c115e45bf9495": {
          "model_module": "@jupyter-widgets/controls",
          "model_name": "FloatProgressModel",
          "model_module_version": "1.5.0",
          "state": {
            "_view_name": "ProgressView",
            "style": "IPY_MODEL_dbd27b236dd14d74b2b2e3ca91ab66a2",
            "_dom_classes": [],
            "description": "",
            "_model_name": "FloatProgressModel",
            "bar_style": "",
            "max": 1,
            "_view_module": "@jupyter-widgets/controls",
            "_model_module_version": "1.5.0",
            "value": 1,
            "_view_count": null,
            "_view_module_version": "1.5.0",
            "orientation": "horizontal",
            "min": 0,
            "description_tooltip": null,
            "_model_module": "@jupyter-widgets/controls",
            "layout": "IPY_MODEL_27c871f583a040f581f593f28744329e"
          }
        },
        "2ef27533eb084f51963c63abdf5df7a0": {
          "model_module": "@jupyter-widgets/controls",
          "model_name": "DescriptionStyleModel",
          "model_module_version": "1.5.0",
          "state": {
            "_view_name": "StyleView",
            "_model_name": "DescriptionStyleModel",
            "description_width": "",
            "_view_module": "@jupyter-widgets/base",
            "_model_module_version": "1.5.0",
            "_view_count": null,
            "_view_module_version": "1.2.0",
            "_model_module": "@jupyter-widgets/controls"
          }
        },
        "62b35080606e4e818253f71b7214387a": {
          "model_module": "@jupyter-widgets/base",
          "model_name": "LayoutModel",
          "model_module_version": "1.2.0",
          "state": {
            "_view_name": "LayoutView",
            "grid_template_rows": null,
            "right": null,
            "justify_content": null,
            "_view_module": "@jupyter-widgets/base",
            "overflow": null,
            "_model_module_version": "1.2.0",
            "_view_count": null,
            "flex_flow": null,
            "width": null,
            "min_width": null,
            "border": null,
            "align_items": null,
            "bottom": null,
            "_model_module": "@jupyter-widgets/base",
            "top": null,
            "grid_column": null,
            "overflow_y": null,
            "overflow_x": null,
            "grid_auto_flow": null,
            "grid_area": null,
            "grid_template_columns": null,
            "flex": null,
            "_model_name": "LayoutModel",
            "justify_items": null,
            "grid_row": null,
            "max_height": null,
            "align_content": null,
            "visibility": null,
            "align_self": null,
            "height": null,
            "min_height": null,
            "padding": null,
            "grid_auto_rows": null,
            "grid_gap": null,
            "max_width": null,
            "order": null,
            "_view_module_version": "1.2.0",
            "grid_template_areas": null,
            "object_position": null,
            "object_fit": null,
            "grid_auto_columns": null,
            "margin": null,
            "display": null,
            "left": null
          }
        },
        "dbd27b236dd14d74b2b2e3ca91ab66a2": {
          "model_module": "@jupyter-widgets/controls",
          "model_name": "ProgressStyleModel",
          "model_module_version": "1.5.0",
          "state": {
            "_view_name": "StyleView",
            "_model_name": "ProgressStyleModel",
            "description_width": "",
            "_view_module": "@jupyter-widgets/base",
            "_model_module_version": "1.5.0",
            "_view_count": null,
            "_view_module_version": "1.2.0",
            "bar_color": null,
            "_model_module": "@jupyter-widgets/controls"
          }
        },
        "27c871f583a040f581f593f28744329e": {
          "model_module": "@jupyter-widgets/base",
          "model_name": "LayoutModel",
          "model_module_version": "1.2.0",
          "state": {
            "_view_name": "LayoutView",
            "grid_template_rows": null,
            "right": null,
            "justify_content": null,
            "_view_module": "@jupyter-widgets/base",
            "overflow": null,
            "_model_module_version": "1.2.0",
            "_view_count": null,
            "flex_flow": null,
            "width": null,
            "min_width": null,
            "border": null,
            "align_items": null,
            "bottom": null,
            "_model_module": "@jupyter-widgets/base",
            "top": null,
            "grid_column": null,
            "overflow_y": null,
            "overflow_x": null,
            "grid_auto_flow": null,
            "grid_area": null,
            "grid_template_columns": null,
            "flex": null,
            "_model_name": "LayoutModel",
            "justify_items": null,
            "grid_row": null,
            "max_height": null,
            "align_content": null,
            "visibility": null,
            "align_self": null,
            "height": null,
            "min_height": null,
            "padding": null,
            "grid_auto_rows": null,
            "grid_gap": null,
            "max_width": null,
            "order": null,
            "_view_module_version": "1.2.0",
            "grid_template_areas": null,
            "object_position": null,
            "object_fit": null,
            "grid_auto_columns": null,
            "margin": null,
            "display": null,
            "left": null
          }
        },
        "7121ba6ba4e445169ffa5c36880cc425": {
          "model_module": "@jupyter-widgets/controls",
          "model_name": "VBoxModel",
          "model_module_version": "1.5.0",
          "state": {
            "_view_name": "VBoxView",
            "_dom_classes": [],
            "_model_name": "VBoxModel",
            "_view_module": "@jupyter-widgets/controls",
            "_model_module_version": "1.5.0",
            "_view_count": null,
            "_view_module_version": "1.5.0",
            "box_style": "",
            "layout": "IPY_MODEL_79c137f4b0604c72a9e3cbd1e01046a6",
            "_model_module": "@jupyter-widgets/controls",
            "children": [
              "IPY_MODEL_0edf0d806c054218b6e09ae0b0a55a98",
              "IPY_MODEL_2b4ad686898540a7a61d2c344da68d48"
            ]
          }
        },
        "79c137f4b0604c72a9e3cbd1e01046a6": {
          "model_module": "@jupyter-widgets/base",
          "model_name": "LayoutModel",
          "model_module_version": "1.2.0",
          "state": {
            "_view_name": "LayoutView",
            "grid_template_rows": null,
            "right": null,
            "justify_content": null,
            "_view_module": "@jupyter-widgets/base",
            "overflow": null,
            "_model_module_version": "1.2.0",
            "_view_count": null,
            "flex_flow": null,
            "width": null,
            "min_width": null,
            "border": null,
            "align_items": null,
            "bottom": null,
            "_model_module": "@jupyter-widgets/base",
            "top": null,
            "grid_column": null,
            "overflow_y": null,
            "overflow_x": null,
            "grid_auto_flow": null,
            "grid_area": null,
            "grid_template_columns": null,
            "flex": null,
            "_model_name": "LayoutModel",
            "justify_items": null,
            "grid_row": null,
            "max_height": null,
            "align_content": null,
            "visibility": null,
            "align_self": null,
            "height": null,
            "min_height": null,
            "padding": null,
            "grid_auto_rows": null,
            "grid_gap": null,
            "max_width": null,
            "order": null,
            "_view_module_version": "1.2.0",
            "grid_template_areas": null,
            "object_position": null,
            "object_fit": null,
            "grid_auto_columns": null,
            "margin": null,
            "display": null,
            "left": null
          }
        },
        "0edf0d806c054218b6e09ae0b0a55a98": {
          "model_module": "@jupyter-widgets/controls",
          "model_name": "LabelModel",
          "model_module_version": "1.5.0",
          "state": {
            "_view_name": "LabelView",
            "style": "IPY_MODEL_c83f5441db0c4e10ab68ef799b4bfd3c",
            "_dom_classes": [],
            "description": "",
            "_model_name": "LabelModel",
            "placeholder": "​",
            "_view_module": "@jupyter-widgets/controls",
            "_model_module_version": "1.5.0",
            "value": " 0.15MB of 0.15MB uploaded (0.00MB deduped)\r",
            "_view_count": null,
            "_view_module_version": "1.5.0",
            "description_tooltip": null,
            "_model_module": "@jupyter-widgets/controls",
            "layout": "IPY_MODEL_abf37c5f3597491f9257f5ed0a679cc6"
          }
        },
        "2b4ad686898540a7a61d2c344da68d48": {
          "model_module": "@jupyter-widgets/controls",
          "model_name": "FloatProgressModel",
          "model_module_version": "1.5.0",
          "state": {
            "_view_name": "ProgressView",
            "style": "IPY_MODEL_d1c89b37bdcc4f4fb06bc047e4b3d5be",
            "_dom_classes": [],
            "description": "",
            "_model_name": "FloatProgressModel",
            "bar_style": "",
            "max": 1,
            "_view_module": "@jupyter-widgets/controls",
            "_model_module_version": "1.5.0",
            "value": 1,
            "_view_count": null,
            "_view_module_version": "1.5.0",
            "orientation": "horizontal",
            "min": 0,
            "description_tooltip": null,
            "_model_module": "@jupyter-widgets/controls",
            "layout": "IPY_MODEL_3c51c546bc6e46d7842d47b81d200ca8"
          }
        },
        "c83f5441db0c4e10ab68ef799b4bfd3c": {
          "model_module": "@jupyter-widgets/controls",
          "model_name": "DescriptionStyleModel",
          "model_module_version": "1.5.0",
          "state": {
            "_view_name": "StyleView",
            "_model_name": "DescriptionStyleModel",
            "description_width": "",
            "_view_module": "@jupyter-widgets/base",
            "_model_module_version": "1.5.0",
            "_view_count": null,
            "_view_module_version": "1.2.0",
            "_model_module": "@jupyter-widgets/controls"
          }
        },
        "abf37c5f3597491f9257f5ed0a679cc6": {
          "model_module": "@jupyter-widgets/base",
          "model_name": "LayoutModel",
          "model_module_version": "1.2.0",
          "state": {
            "_view_name": "LayoutView",
            "grid_template_rows": null,
            "right": null,
            "justify_content": null,
            "_view_module": "@jupyter-widgets/base",
            "overflow": null,
            "_model_module_version": "1.2.0",
            "_view_count": null,
            "flex_flow": null,
            "width": null,
            "min_width": null,
            "border": null,
            "align_items": null,
            "bottom": null,
            "_model_module": "@jupyter-widgets/base",
            "top": null,
            "grid_column": null,
            "overflow_y": null,
            "overflow_x": null,
            "grid_auto_flow": null,
            "grid_area": null,
            "grid_template_columns": null,
            "flex": null,
            "_model_name": "LayoutModel",
            "justify_items": null,
            "grid_row": null,
            "max_height": null,
            "align_content": null,
            "visibility": null,
            "align_self": null,
            "height": null,
            "min_height": null,
            "padding": null,
            "grid_auto_rows": null,
            "grid_gap": null,
            "max_width": null,
            "order": null,
            "_view_module_version": "1.2.0",
            "grid_template_areas": null,
            "object_position": null,
            "object_fit": null,
            "grid_auto_columns": null,
            "margin": null,
            "display": null,
            "left": null
          }
        },
        "d1c89b37bdcc4f4fb06bc047e4b3d5be": {
          "model_module": "@jupyter-widgets/controls",
          "model_name": "ProgressStyleModel",
          "model_module_version": "1.5.0",
          "state": {
            "_view_name": "StyleView",
            "_model_name": "ProgressStyleModel",
            "description_width": "",
            "_view_module": "@jupyter-widgets/base",
            "_model_module_version": "1.5.0",
            "_view_count": null,
            "_view_module_version": "1.2.0",
            "bar_color": null,
            "_model_module": "@jupyter-widgets/controls"
          }
        },
        "3c51c546bc6e46d7842d47b81d200ca8": {
          "model_module": "@jupyter-widgets/base",
          "model_name": "LayoutModel",
          "model_module_version": "1.2.0",
          "state": {
            "_view_name": "LayoutView",
            "grid_template_rows": null,
            "right": null,
            "justify_content": null,
            "_view_module": "@jupyter-widgets/base",
            "overflow": null,
            "_model_module_version": "1.2.0",
            "_view_count": null,
            "flex_flow": null,
            "width": null,
            "min_width": null,
            "border": null,
            "align_items": null,
            "bottom": null,
            "_model_module": "@jupyter-widgets/base",
            "top": null,
            "grid_column": null,
            "overflow_y": null,
            "overflow_x": null,
            "grid_auto_flow": null,
            "grid_area": null,
            "grid_template_columns": null,
            "flex": null,
            "_model_name": "LayoutModel",
            "justify_items": null,
            "grid_row": null,
            "max_height": null,
            "align_content": null,
            "visibility": null,
            "align_self": null,
            "height": null,
            "min_height": null,
            "padding": null,
            "grid_auto_rows": null,
            "grid_gap": null,
            "max_width": null,
            "order": null,
            "_view_module_version": "1.2.0",
            "grid_template_areas": null,
            "object_position": null,
            "object_fit": null,
            "grid_auto_columns": null,
            "margin": null,
            "display": null,
            "left": null
          }
        }
      }
    }
  },
  "cells": [
    {
      "cell_type": "markdown",
      "metadata": {
        "id": "Szj3Ndz1FMfM"
      },
      "source": [
        "Colab: Implement simclr using Tensorflow\n",
        "\n",
        "1.Save the model weights\n",
        "2. Load the models weights and do Linear projections in Imagenet dataset\n",
        "3. Visualization of the representations\n",
        "\n",
        "Imagenet dataset consist of 5 classes with 200 images for each class.\n"
      ]
    },
    {
      "cell_type": "markdown",
      "metadata": {
        "id": "LMp5lKNjgBXq"
      },
      "source": [
        "## Initial setup"
      ]
    },
    {
      "cell_type": "code",
      "metadata": {
        "id": "lIYdn1woOS1n",
        "colab": {
          "base_uri": "https://localhost:8080/"
        },
        "outputId": "51ef71d0-2db0-4be6-e7d1-495af9cc025c"
      },
      "source": [
        "import tensorflow as tf\n",
        "print(tf.__version__)"
      ],
      "execution_count": 1,
      "outputs": [
        {
          "output_type": "stream",
          "name": "stdout",
          "text": [
            "2.6.0\n"
          ]
        }
      ]
    },
    {
      "cell_type": "code",
      "metadata": {
        "id": "dZowsDvOYK37",
        "colab": {
          "base_uri": "https://localhost:8080/"
        },
        "outputId": "bb632105-d911-4dbd-d09f-08c6b0d09534"
      },
      "source": [
        "!nvidia-smi"
      ],
      "execution_count": 2,
      "outputs": [
        {
          "output_type": "stream",
          "name": "stdout",
          "text": [
            "Sun Sep 26 01:18:10 2021       \n",
            "+-----------------------------------------------------------------------------+\n",
            "| NVIDIA-SMI 470.63.01    Driver Version: 460.32.03    CUDA Version: 11.2     |\n",
            "|-------------------------------+----------------------+----------------------+\n",
            "| GPU  Name        Persistence-M| Bus-Id        Disp.A | Volatile Uncorr. ECC |\n",
            "| Fan  Temp  Perf  Pwr:Usage/Cap|         Memory-Usage | GPU-Util  Compute M. |\n",
            "|                               |                      |               MIG M. |\n",
            "|===============================+======================+======================|\n",
            "|   0  Tesla K80           Off  | 00000000:00:04.0 Off |                    0 |\n",
            "| N/A   66C    P8    31W / 149W |      0MiB / 11441MiB |      0%      Default |\n",
            "|                               |                      |                  N/A |\n",
            "+-------------------------------+----------------------+----------------------+\n",
            "                                                                               \n",
            "+-----------------------------------------------------------------------------+\n",
            "| Processes:                                                                  |\n",
            "|  GPU   GI   CI        PID   Type   Process name                  GPU Memory |\n",
            "|        ID   ID                                                   Usage      |\n",
            "|=============================================================================|\n",
            "|  No running processes found                                                 |\n",
            "+-----------------------------------------------------------------------------+\n"
          ]
        }
      ]
    },
    {
      "cell_type": "code",
      "metadata": {
        "id": "I2MOoF9zgMHp",
        "colab": {
          "base_uri": "https://localhost:8080/"
        },
        "outputId": "330adb26-9994-4e4a-8c5b-94a6e8ceaaee"
      },
      "source": [
        "# Install wandb for experiment tracking\n",
        "!pip install --upgrade https://github.com/wandb/client/archive/feature/code-save.zip"
      ],
      "execution_count": 3,
      "outputs": [
        {
          "output_type": "stream",
          "name": "stdout",
          "text": [
            "Collecting https://github.com/wandb/client/archive/feature/code-save.zip\n",
            "  Downloading https://github.com/wandb/client/archive/feature/code-save.zip\n",
            "\u001b[K     | 10.4 MB 834 kB/s\n",
            "\u001b[?25hRequirement already satisfied: Click>=7.0 in /usr/local/lib/python3.7/dist-packages (from wandb==0.8.36) (7.1.2)\n",
            "Collecting GitPython>=1.0.0\n",
            "  Downloading GitPython-3.1.24-py3-none-any.whl (180 kB)\n",
            "\u001b[K     |████████████████████████████████| 180 kB 5.3 MB/s \n",
            "\u001b[?25hCollecting gql==0.2.0\n",
            "  Downloading gql-0.2.0.tar.gz (18 kB)\n",
            "Requirement already satisfied: nvidia-ml-py3>=7.352.0 in /usr/local/lib/python3.7/dist-packages (from wandb==0.8.36) (7.352.0)\n",
            "Requirement already satisfied: python-dateutil>=2.6.1 in /usr/local/lib/python3.7/dist-packages (from wandb==0.8.36) (2.8.2)\n",
            "Requirement already satisfied: requests>=2.0.0 in /usr/local/lib/python3.7/dist-packages (from wandb==0.8.36) (2.23.0)\n",
            "Collecting shortuuid>=0.5.0\n",
            "  Downloading shortuuid-1.0.1-py3-none-any.whl (7.5 kB)\n",
            "Requirement already satisfied: six>=1.10.0 in /usr/local/lib/python3.7/dist-packages (from wandb==0.8.36) (1.15.0)\n",
            "Collecting watchdog>=0.8.3\n",
            "  Downloading watchdog-2.1.5-py3-none-manylinux2014_x86_64.whl (75 kB)\n",
            "\u001b[K     |████████████████████████████████| 75 kB 3.7 MB/s \n",
            "\u001b[?25hRequirement already satisfied: PyYAML>=3.10 in /usr/local/lib/python3.7/dist-packages (from wandb==0.8.36) (3.13)\n",
            "Requirement already satisfied: psutil>=5.0.0 in /usr/local/lib/python3.7/dist-packages (from wandb==0.8.36) (5.4.8)\n",
            "Collecting sentry-sdk>=0.4.0\n",
            "  Downloading sentry_sdk-1.4.1-py2.py3-none-any.whl (139 kB)\n",
            "\u001b[K     |████████████████████████████████| 139 kB 43.7 MB/s \n",
            "\u001b[?25hCollecting subprocess32>=3.5.3\n",
            "  Downloading subprocess32-3.5.4.tar.gz (97 kB)\n",
            "\u001b[K     |████████████████████████████████| 97 kB 6.2 MB/s \n",
            "\u001b[?25hCollecting docker-pycreds>=0.4.0\n",
            "  Downloading docker_pycreds-0.4.0-py2.py3-none-any.whl (9.0 kB)\n",
            "Collecting configparser>=3.8.1\n",
            "  Downloading configparser-5.0.2-py3-none-any.whl (19 kB)\n",
            "Collecting graphql-core<2,>=0.5.0\n",
            "  Downloading graphql-core-1.1.tar.gz (70 kB)\n",
            "\u001b[K     |████████████████████████████████| 70 kB 7.5 MB/s \n",
            "\u001b[?25hRequirement already satisfied: promise<3,>=2.0 in /usr/local/lib/python3.7/dist-packages (from gql==0.2.0->wandb==0.8.36) (2.3)\n",
            "Collecting gitdb<5,>=4.0.1\n",
            "  Downloading gitdb-4.0.7-py3-none-any.whl (63 kB)\n",
            "\u001b[K     |████████████████████████████████| 63 kB 1.6 MB/s \n",
            "\u001b[?25hRequirement already satisfied: typing-extensions>=3.7.4.3 in /usr/local/lib/python3.7/dist-packages (from GitPython>=1.0.0->wandb==0.8.36) (3.7.4.3)\n",
            "Collecting smmap<5,>=3.0.1\n",
            "  Downloading smmap-4.0.0-py2.py3-none-any.whl (24 kB)\n",
            "Requirement already satisfied: idna<3,>=2.5 in /usr/local/lib/python3.7/dist-packages (from requests>=2.0.0->wandb==0.8.36) (2.10)\n",
            "Requirement already satisfied: chardet<4,>=3.0.2 in /usr/local/lib/python3.7/dist-packages (from requests>=2.0.0->wandb==0.8.36) (3.0.4)\n",
            "Requirement already satisfied: urllib3!=1.25.0,!=1.25.1,<1.26,>=1.21.1 in /usr/local/lib/python3.7/dist-packages (from requests>=2.0.0->wandb==0.8.36) (1.24.3)\n",
            "Requirement already satisfied: certifi>=2017.4.17 in /usr/local/lib/python3.7/dist-packages (from requests>=2.0.0->wandb==0.8.36) (2021.5.30)\n",
            "Building wheels for collected packages: wandb, gql, graphql-core, subprocess32\n",
            "  Building wheel for wandb (setup.py) ... \u001b[?25l\u001b[?25hdone\n",
            "  Created wheel for wandb: filename=wandb-0.8.36-py2.py3-none-any.whl size=1385054 sha256=b3b859ea3f770d240be1610e5ebd0c74886f8e5679973937b2599aabdf6fde14\n",
            "  Stored in directory: /root/.cache/pip/wheels/08/1e/c2/b01dd11de70589ef2c6305c9b94da5bdfa22fd99b08da54fcf\n",
            "  Building wheel for gql (setup.py) ... \u001b[?25l\u001b[?25hdone\n",
            "  Created wheel for gql: filename=gql-0.2.0-py3-none-any.whl size=7639 sha256=78f916867c17f108f1c372ee10496078196aba0687fc0fe52f5ac7c114308f3e\n",
            "  Stored in directory: /root/.cache/pip/wheels/b6/9a/56/5456fd32264a8fc53eefcb2f74e24e99a7ef4eb40a9af5c905\n",
            "  Building wheel for graphql-core (setup.py) ... \u001b[?25l\u001b[?25hdone\n",
            "  Created wheel for graphql-core: filename=graphql_core-1.1-py3-none-any.whl size=104649 sha256=03d0e45fb287444526742a37731b615a4a1adce47afa8a59a02059c546833926\n",
            "  Stored in directory: /root/.cache/pip/wheels/6b/fd/8c/a20dd591c1a554070cc33fb58042867e6ac1c85395abe2e57a\n",
            "  Building wheel for subprocess32 (setup.py) ... \u001b[?25l\u001b[?25hdone\n",
            "  Created wheel for subprocess32: filename=subprocess32-3.5.4-py3-none-any.whl size=6502 sha256=8eba2eeaad35dca842c118b714da8f37e2612b74dbcb7ce15daf79a8aa0fa463\n",
            "  Stored in directory: /root/.cache/pip/wheels/50/ca/fa/8fca8d246e64f19488d07567547ddec8eb084e8c0d7a59226a\n",
            "Successfully built wandb gql graphql-core subprocess32\n",
            "Installing collected packages: smmap, graphql-core, gitdb, watchdog, subprocess32, shortuuid, sentry-sdk, gql, GitPython, docker-pycreds, configparser, wandb\n",
            "Successfully installed GitPython-3.1.24 configparser-5.0.2 docker-pycreds-0.4.0 gitdb-4.0.7 gql-0.2.0 graphql-core-1.1 sentry-sdk-1.4.1 shortuuid-1.0.1 smmap-4.0.0 subprocess32-3.5.4 wandb-0.8.36 watchdog-2.1.5\n"
          ]
        }
      ]
    },
    {
      "cell_type": "code",
      "metadata": {
        "colab": {
          "base_uri": "https://localhost:8080/"
        },
        "id": "OTYT2xBmfvvM",
        "outputId": "62a21eea-dc34-4a9b-e230-9c1dcfde3acb"
      },
      "source": [
        "pip install wandb --upgrade"
      ],
      "execution_count": 4,
      "outputs": [
        {
          "output_type": "stream",
          "name": "stdout",
          "text": [
            "Requirement already satisfied: wandb in /usr/local/lib/python3.7/dist-packages (0.8.36)\n",
            "Collecting wandb\n",
            "  Downloading wandb-0.12.2-py2.py3-none-any.whl (1.7 MB)\n",
            "\u001b[K     |████████████████████████████████| 1.7 MB 5.1 MB/s \n",
            "\u001b[?25hRequirement already satisfied: psutil>=5.0.0 in /usr/local/lib/python3.7/dist-packages (from wandb) (5.4.8)\n",
            "Requirement already satisfied: requests<3,>=2.0.0 in /usr/local/lib/python3.7/dist-packages (from wandb) (2.23.0)\n",
            "Requirement already satisfied: configparser>=3.8.1 in /usr/local/lib/python3.7/dist-packages (from wandb) (5.0.2)\n",
            "Requirement already satisfied: subprocess32>=3.5.3 in /usr/local/lib/python3.7/dist-packages (from wandb) (3.5.4)\n",
            "Requirement already satisfied: PyYAML in /usr/local/lib/python3.7/dist-packages (from wandb) (3.13)\n",
            "Requirement already satisfied: shortuuid>=0.5.0 in /usr/local/lib/python3.7/dist-packages (from wandb) (1.0.1)\n",
            "Requirement already satisfied: protobuf>=3.12.0 in /usr/local/lib/python3.7/dist-packages (from wandb) (3.17.3)\n",
            "Collecting pathtools\n",
            "  Downloading pathtools-0.1.2.tar.gz (11 kB)\n",
            "Collecting yaspin>=1.0.0\n",
            "  Downloading yaspin-2.1.0-py3-none-any.whl (18 kB)\n",
            "Requirement already satisfied: sentry-sdk>=1.0.0 in /usr/local/lib/python3.7/dist-packages (from wandb) (1.4.1)\n",
            "Requirement already satisfied: GitPython>=1.0.0 in /usr/local/lib/python3.7/dist-packages (from wandb) (3.1.24)\n",
            "Requirement already satisfied: python-dateutil>=2.6.1 in /usr/local/lib/python3.7/dist-packages (from wandb) (2.8.2)\n",
            "Requirement already satisfied: Click!=8.0.0,>=7.0 in /usr/local/lib/python3.7/dist-packages (from wandb) (7.1.2)\n",
            "Requirement already satisfied: promise<3,>=2.0 in /usr/local/lib/python3.7/dist-packages (from wandb) (2.3)\n",
            "Requirement already satisfied: six>=1.13.0 in /usr/local/lib/python3.7/dist-packages (from wandb) (1.15.0)\n",
            "Requirement already satisfied: docker-pycreds>=0.4.0 in /usr/local/lib/python3.7/dist-packages (from wandb) (0.4.0)\n",
            "Requirement already satisfied: gitdb<5,>=4.0.1 in /usr/local/lib/python3.7/dist-packages (from GitPython>=1.0.0->wandb) (4.0.7)\n",
            "Requirement already satisfied: typing-extensions>=3.7.4.3 in /usr/local/lib/python3.7/dist-packages (from GitPython>=1.0.0->wandb) (3.7.4.3)\n",
            "Requirement already satisfied: smmap<5,>=3.0.1 in /usr/local/lib/python3.7/dist-packages (from gitdb<5,>=4.0.1->GitPython>=1.0.0->wandb) (4.0.0)\n",
            "Requirement already satisfied: idna<3,>=2.5 in /usr/local/lib/python3.7/dist-packages (from requests<3,>=2.0.0->wandb) (2.10)\n",
            "Requirement already satisfied: urllib3!=1.25.0,!=1.25.1,<1.26,>=1.21.1 in /usr/local/lib/python3.7/dist-packages (from requests<3,>=2.0.0->wandb) (1.24.3)\n",
            "Requirement already satisfied: chardet<4,>=3.0.2 in /usr/local/lib/python3.7/dist-packages (from requests<3,>=2.0.0->wandb) (3.0.4)\n",
            "Requirement already satisfied: certifi>=2017.4.17 in /usr/local/lib/python3.7/dist-packages (from requests<3,>=2.0.0->wandb) (2021.5.30)\n",
            "Requirement already satisfied: termcolor<2.0.0,>=1.1.0 in /usr/local/lib/python3.7/dist-packages (from yaspin>=1.0.0->wandb) (1.1.0)\n",
            "Building wheels for collected packages: pathtools\n",
            "  Building wheel for pathtools (setup.py) ... \u001b[?25l\u001b[?25hdone\n",
            "  Created wheel for pathtools: filename=pathtools-0.1.2-py3-none-any.whl size=8807 sha256=000998c987a11a662ba1ea6b80427cde92a8d68c01d50ba2fac88f0588b0f022\n",
            "  Stored in directory: /root/.cache/pip/wheels/3e/31/09/fa59cef12cdcfecc627b3d24273699f390e71828921b2cbba2\n",
            "Successfully built pathtools\n",
            "Installing collected packages: yaspin, pathtools, wandb\n",
            "  Attempting uninstall: wandb\n",
            "    Found existing installation: wandb 0.8.36\n",
            "    Uninstalling wandb-0.8.36:\n",
            "      Successfully uninstalled wandb-0.8.36\n",
            "Successfully installed pathtools-0.1.2 wandb-0.12.2 yaspin-2.1.0\n"
          ]
        }
      ]
    },
    {
      "cell_type": "code",
      "metadata": {
        "id": "EXx0RnrigMwd",
        "colab": {
          "base_uri": "https://localhost:8080/",
          "height": 69
        },
        "outputId": "a55d8a55-04f2-48c6-8bcc-e9c0949e9843"
      },
      "source": [
        "#Login weight abd bias site to run the model\n",
        "import wandb\n",
        "wandb.login()"
      ],
      "execution_count": 5,
      "outputs": [
        {
          "output_type": "display_data",
          "data": {
            "application/javascript": [
              "\n",
              "        window._wandbApiKey = new Promise((resolve, reject) => {\n",
              "            function loadScript(url) {\n",
              "            return new Promise(function(resolve, reject) {\n",
              "                let newScript = document.createElement(\"script\");\n",
              "                newScript.onerror = reject;\n",
              "                newScript.onload = resolve;\n",
              "                document.body.appendChild(newScript);\n",
              "                newScript.src = url;\n",
              "            });\n",
              "            }\n",
              "            loadScript(\"https://cdn.jsdelivr.net/npm/postmate/build/postmate.min.js\").then(() => {\n",
              "            const iframe = document.createElement('iframe')\n",
              "            iframe.style.cssText = \"width:0;height:0;border:none\"\n",
              "            document.body.appendChild(iframe)\n",
              "            const handshake = new Postmate({\n",
              "                container: iframe,\n",
              "                url: 'https://wandb.ai/authorize'\n",
              "            });\n",
              "            const timeout = setTimeout(() => reject(\"Couldn't auto authenticate\"), 5000)\n",
              "            handshake.then(function(child) {\n",
              "                child.on('authorize', data => {\n",
              "                    clearTimeout(timeout)\n",
              "                    resolve(data)\n",
              "                });\n",
              "            });\n",
              "            })\n",
              "        });\n",
              "    "
            ],
            "text/plain": [
              "<IPython.core.display.Javascript object>"
            ]
          },
          "metadata": {}
        },
        {
          "output_type": "stream",
          "name": "stderr",
          "text": [
            "\u001b[34m\u001b[1mwandb\u001b[0m: Appending key for api.wandb.ai to your netrc file: /root/.netrc\n"
          ]
        },
        {
          "output_type": "execute_result",
          "data": {
            "text/plain": [
              "True"
            ]
          },
          "metadata": {},
          "execution_count": 5
        }
      ]
    },
    {
      "cell_type": "code",
      "metadata": {
        "id": "421MrJNMYQD7"
      },
      "source": [
        "# Other imports\n",
        "from tensorflow.keras.layers import *\n",
        "from tensorflow.keras.models import *\n",
        "import tensorflow as tf\n",
        "import numpy as np\n",
        "import cv2\n",
        "import matplotlib.pyplot as plt\n",
        "from imutils import paths\n",
        "from tqdm import tqdm\n",
        "\n",
        "\n",
        "# Random seed fixation\n",
        "tf.random.set_seed(500)\n",
        "np.random.seed(500)"
      ],
      "execution_count": 6,
      "outputs": []
    },
    {
      "cell_type": "markdown",
      "metadata": {
        "id": "UUFlGxuJgBX9"
      },
      "source": [
        "## Dataset gathering and preparation"
      ]
    },
    {
      "cell_type": "code",
      "metadata": {
        "id": "cq8xwssDYNTq",
        "colab": {
          "base_uri": "https://localhost:8080/"
        },
        "outputId": "80d65cde-bbb2-4586-f200-73bd2932e002"
      },
      "source": [
        "# Gather dataset\n",
        "!git clone https://github.com/thunderInfy/imagenet-5-categories"
      ],
      "execution_count": 7,
      "outputs": [
        {
          "output_type": "stream",
          "name": "stdout",
          "text": [
            "Cloning into 'imagenet-5-categories'...\n",
            "remote: Enumerating objects: 1532, done.\u001b[K\n",
            "remote: Total 1532 (delta 0), reused 0 (delta 0), pack-reused 1532\u001b[K\n",
            "Receiving objects: 100% (1532/1532), 88.56 MiB | 35.76 MiB/s, done.\n",
            "Resolving deltas: 100% (1/1), done.\n"
          ]
        }
      ]
    },
    {
      "cell_type": "code",
      "metadata": {
        "id": "Z0atoQ0MYT4b",
        "colab": {
          "base_uri": "https://localhost:8080/"
        },
        "outputId": "45321f1e-ecc5-443a-86cd-1170199a51bf"
      },
      "source": [
        "# How many training images for SimCLR?\n",
        "train_images = list(paths.list_images(\"imagenet-5-categories/train\"))\n",
        "print(len(train_images))"
      ],
      "execution_count": 8,
      "outputs": [
        {
          "output_type": "stream",
          "name": "stdout",
          "text": [
            "1250\n"
          ]
        }
      ]
    },
    {
      "cell_type": "code",
      "metadata": {
        "colab": {
          "base_uri": "https://localhost:8080/",
          "height": 35
        },
        "id": "zhEqfwymcbmG",
        "outputId": "e9a1f75c-93a7-4222-e2b7-ae7a6dab5db7"
      },
      "source": [
        "train_images[0]"
      ],
      "execution_count": 9,
      "outputs": [
        {
          "output_type": "execute_result",
          "data": {
            "application/vnd.google.colaboratory.intrinsic+json": {
              "type": "string"
            },
            "text/plain": [
              "'imagenet-5-categories/train/cat_1973374961_28d50cffa2.jpg'"
            ]
          },
          "metadata": {},
          "execution_count": 9
        }
      ]
    },
    {
      "cell_type": "code",
      "metadata": {
        "id": "Ad9dX7ONYV9Y"
      },
      "source": [
        "#Defining Custom Augmentation\n",
        "#AUgmenttaion included Random Flipping, Color Jitter and Color Dropping\n",
        "class CustomAugment(object):\n",
        "    def __call__(self, sample):        \n",
        "        # Random flips\n",
        "        sample = self._random_apply(tf.image.flip_left_right, sample, p=0.5)\n",
        "        \n",
        "        # Randomly apply transformation (color distortions) with probability p.\n",
        "        sample = self._random_apply(self._color_jitter, sample, p=0.8)\n",
        "        sample = self._random_apply(self._color_drop, sample, p=0.2)\n",
        "\n",
        "        return sample\n",
        "    def _random_apply(self, func, x, p):\n",
        "        return tf.cond(tf.less(tf.random.uniform([], minval=0, maxval=1, dtype=tf.float32),tf.cast(p, tf.float32)),lambda: func(x),lambda: x)\n",
        "\n",
        "    def _color_jitter(self, x, s=1):\n",
        "        \n",
        "        x = tf.image.random_brightness(x, max_delta=0.8*s)\n",
        "        x = tf.image.random_contrast(x, lower=1-0.8*s, upper=1+0.8*s)\n",
        "        x = tf.image.random_saturation(x, lower=1-0.8*s, upper=1+0.8*s)\n",
        "        x = tf.image.random_hue(x, max_delta=0.2*s)\n",
        "        x = tf.clip_by_value(x, 0, 1)\n",
        "        return x\n",
        "    \n",
        "    def _color_drop(self, x):\n",
        "        x = tf.image.rgb_to_grayscale(x)\n",
        "        x = tf.tile(x, [1, 1, 1, 3])\n",
        "        return x\n",
        "    \n",
        "   "
      ],
      "execution_count": 10,
      "outputs": []
    },
    {
      "cell_type": "code",
      "metadata": {
        "id": "XKYH6UxnYa7g"
      },
      "source": [
        "# Build the augmentation pipeline\n",
        "data_augmentation = Sequential([Lambda(CustomAugment())])"
      ],
      "execution_count": 11,
      "outputs": []
    },
    {
      "cell_type": "code",
      "metadata": {
        "id": "4eDTVhuHYdwi"
      },
      "source": [
        "# Image preprocessing utils\n",
        "@tf.function\n",
        "def parse_images(image_path):\n",
        "    image_string = tf.io.read_file(image_path)\n",
        "    image = tf.image.decode_jpeg(image_string, channels=3)\n",
        "    image = tf.image.convert_image_dtype(image, tf.float32)\n",
        "    image = tf.image.resize(image, size=[224, 224])\n",
        "\n",
        "    return image"
      ],
      "execution_count": 12,
      "outputs": []
    },
    {
      "cell_type": "code",
      "metadata": {
        "id": "otqf-I5FZLqd"
      },
      "source": [
        "# Create TensorFlow dataset\n",
        "BATCH_SIZE = 32\n",
        "\n",
        "train_ds = tf.data.Dataset.from_tensor_slices(train_images)\n",
        "train_ds = (\n",
        "    train_ds\n",
        "    .map(parse_images, num_parallel_calls=tf.data.experimental.AUTOTUNE)\n",
        "    .shuffle(1024)\n",
        "    .batch(BATCH_SIZE, drop_remainder=True)\n",
        "    .prefetch(tf.data.experimental.AUTOTUNE)\n",
        ")"
      ],
      "execution_count": 22,
      "outputs": []
    },
    {
      "cell_type": "markdown",
      "metadata": {
        "id": "2avjHJzRgBYS"
      },
      "source": [
        "## Utilities"
      ]
    },
    {
      "cell_type": "code",
      "metadata": {
        "id": "F1_Wl0DzZQ5F"
      },
      "source": [
        "# Architecture utils\n",
        "def get_resnet_simclr(hidden_1, hidden_2, hidden_3):\n",
        "    base_model = tf.keras.applications.ResNet50(include_top=False, weights=None, input_shape=(224, 224, 3))\n",
        "    base_model.trainable = True\n",
        "    inputs = Input((224, 224, 3))\n",
        "    h = base_model(inputs, training=True)\n",
        "    h = GlobalAveragePooling2D()(h)\n",
        "\n",
        "    projection_1 = Dense(hidden_1)(h)\n",
        "    projection_1 = Activation(\"relu\")(projection_1)\n",
        "    projection_2 = Dense(hidden_2)(projection_1)\n",
        "    projection_2 = Activation(\"relu\")(projection_2)\n",
        "    projection_3 = Dense(hidden_3)(projection_2)\n",
        "\n",
        "    resnet_simclr = Model(inputs, projection_3)\n",
        "\n",
        "    return resnet_simclr"
      ],
      "execution_count": 23,
      "outputs": []
    },
    {
      "cell_type": "code",
      "metadata": {
        "id": "7-hwmH_LZc7K",
        "colab": {
          "base_uri": "https://localhost:8080/"
        },
        "outputId": "ec3f6577-774e-464f-d130-591b6ef3a3e3"
      },
      "source": [
        "!wget https://raw.githubusercontent.com/sthalles/SimCLR-tensorflow/master/utils/helpers.py\n",
        "!wget https://raw.githubusercontent.com/sthalles/SimCLR-tensorflow/master/utils/losses.py"
      ],
      "execution_count": 24,
      "outputs": [
        {
          "output_type": "stream",
          "name": "stdout",
          "text": [
            "--2021-09-26 01:26:29--  https://raw.githubusercontent.com/sthalles/SimCLR-tensorflow/master/utils/helpers.py\n",
            "Resolving raw.githubusercontent.com (raw.githubusercontent.com)... 185.199.110.133, 185.199.108.133, 185.199.111.133, ...\n",
            "Connecting to raw.githubusercontent.com (raw.githubusercontent.com)|185.199.110.133|:443... connected.\n",
            "HTTP request sent, awaiting response... 200 OK\n",
            "Length: 891 [text/plain]\n",
            "Saving to: ‘helpers.py.1’\n",
            "\n",
            "\rhelpers.py.1          0%[                    ]       0  --.-KB/s               \rhelpers.py.1        100%[===================>]     891  --.-KB/s    in 0s      \n",
            "\n",
            "2021-09-26 01:26:29 (42.0 MB/s) - ‘helpers.py.1’ saved [891/891]\n",
            "\n",
            "--2021-09-26 01:26:29--  https://raw.githubusercontent.com/sthalles/SimCLR-tensorflow/master/utils/losses.py\n",
            "Resolving raw.githubusercontent.com (raw.githubusercontent.com)... 185.199.108.133, 185.199.111.133, 185.199.109.133, ...\n",
            "Connecting to raw.githubusercontent.com (raw.githubusercontent.com)|185.199.108.133|:443... connected.\n",
            "HTTP request sent, awaiting response... 200 OK\n",
            "Length: 891 [text/plain]\n",
            "Saving to: ‘losses.py.1’\n",
            "\n",
            "losses.py.1         100%[===================>]     891  --.-KB/s    in 0s      \n",
            "\n",
            "2021-09-26 01:26:30 (39.3 MB/s) - ‘losses.py.1’ saved [891/891]\n",
            "\n"
          ]
        }
      ]
    },
    {
      "cell_type": "markdown",
      "metadata": {
        "id": "X6d1jsrs7ztp"
      },
      "source": [
        "Comment the `augmentation` import in the `helpers.py` script as we are not using gaussian blur for Augmentation Purpose"
      ]
    },
    {
      "cell_type": "code",
      "metadata": {
        "id": "2OUhSNfTZgY6"
      },
      "source": [
        "from losses import _dot_simililarity_dim1 as sim_func_dim1, _dot_simililarity_dim2 as sim_func_dim2\n",
        "import helpers"
      ],
      "execution_count": 25,
      "outputs": []
    },
    {
      "cell_type": "code",
      "metadata": {
        "id": "Y0Ae5dMLZney"
      },
      "source": [
        "# Mask to remove positive examples from the batch of negative samples\n",
        "negative_mask = helpers.get_negative_mask(BATCH_SIZE)"
      ],
      "execution_count": 26,
      "outputs": []
    },
    {
      "cell_type": "code",
      "metadata": {
        "id": "K6qPdhPrZpFA"
      },
      "source": [
        "@tf.function\n",
        "def train_step(xis, xjs, model, optimizer, criterion, temperature):\n",
        "    with tf.GradientTape() as tape:\n",
        "        zis = model(xis)\n",
        "        zjs = model(xjs)\n",
        "\n",
        "        # normalize projection feature vectors\n",
        "        zis = tf.math.l2_normalize(zis, axis=1)\n",
        "        zjs = tf.math.l2_normalize(zjs, axis=1)\n",
        "\n",
        "        l_pos = sim_func_dim1(zis, zjs)\n",
        "        l_pos = tf.reshape(l_pos, (BATCH_SIZE, 1))\n",
        "        l_pos /= temperature\n",
        "\n",
        "        negatives = tf.concat([zjs, zis], axis=0)\n",
        "\n",
        "        loss = 0\n",
        "\n",
        "        for positives in [zis, zjs]:\n",
        "            l_neg = sim_func_dim2(positives, negatives)\n",
        "\n",
        "            labels = tf.zeros(BATCH_SIZE, dtype=tf.int32)\n",
        "\n",
        "            l_neg = tf.boolean_mask(l_neg, negative_mask)\n",
        "            l_neg = tf.reshape(l_neg, (BATCH_SIZE, -1))\n",
        "            l_neg /= temperature\n",
        "\n",
        "            logits = tf.concat([l_pos, l_neg], axis=1) \n",
        "            loss += criterion(y_pred=logits, y_true=labels)\n",
        "\n",
        "        loss = loss / (2 * BATCH_SIZE)\n",
        "\n",
        "    gradients = tape.gradient(loss, model.trainable_variables)\n",
        "    optimizer.apply_gradients(zip(gradients, model.trainable_variables))\n",
        "\n",
        "    return loss"
      ],
      "execution_count": 27,
      "outputs": []
    },
    {
      "cell_type": "code",
      "metadata": {
        "id": "nSs5WYn7g5v_",
        "colab": {
          "base_uri": "https://localhost:8080/",
          "height": 773,
          "referenced_widgets": [
            "43b539a961bc4ff2a2aef2b8fac3df9b",
            "84da23f603424664b0bbe66f05a89c24",
            "a0e69c30f9af42f6a0ee1f7a7f2d72d1",
            "75e2fb101d7e4eb4a27cbbcc5d489dce",
            "b37f4bd8465c4cf6a5caa1bd49e90b9b",
            "40525ee1cf8f4bb99b4a802af6fad9fe",
            "f372af3eb23943f39a2c47aef8d8a4e3",
            "e8d9262469d749089309f8f716db5480"
          ]
        },
        "outputId": "4ccab4ab-119f-4208-f6e2-430db2428f3b"
      },
      "source": [
        "wandb.init(project=\"simclr\")"
      ],
      "execution_count": 28,
      "outputs": [
        {
          "output_type": "display_data",
          "data": {
            "text/html": [
              "Finishing last run (ID:2tkv7s0n) before initializing another..."
            ],
            "text/plain": [
              "<IPython.core.display.HTML object>"
            ]
          },
          "metadata": {}
        },
        {
          "output_type": "display_data",
          "data": {
            "text/html": [
              "<br/>Waiting for W&B process to finish, PID 226<br/>Program ended successfully."
            ],
            "text/plain": [
              "<IPython.core.display.HTML object>"
            ]
          },
          "metadata": {}
        },
        {
          "output_type": "display_data",
          "data": {
            "application/vnd.jupyter.widget-view+json": {
              "model_id": "43b539a961bc4ff2a2aef2b8fac3df9b",
              "version_minor": 0,
              "version_major": 2
            },
            "text/plain": [
              "VBox(children=(Label(value=' 0.00MB of 0.00MB uploaded (0.00MB deduped)\\r'), FloatProgress(value=1.0, max=1.0)…"
            ]
          },
          "metadata": {}
        },
        {
          "output_type": "display_data",
          "data": {
            "text/html": [
              "Find user logs for this run at: <code>/content/wandb/run-20210926_012009-2tkv7s0n/logs/debug.log</code>"
            ],
            "text/plain": [
              "<IPython.core.display.HTML object>"
            ]
          },
          "metadata": {}
        },
        {
          "output_type": "display_data",
          "data": {
            "text/html": [
              "Find internal logs for this run at: <code>/content/wandb/run-20210926_012009-2tkv7s0n/logs/debug-internal.log</code>"
            ],
            "text/plain": [
              "<IPython.core.display.HTML object>"
            ]
          },
          "metadata": {}
        },
        {
          "output_type": "display_data",
          "data": {
            "text/html": [
              "Synced 5 W&B file(s), 0 media file(s), 0 artifact file(s) and 0 other file(s)"
            ],
            "text/plain": [
              "<IPython.core.display.HTML object>"
            ]
          },
          "metadata": {}
        },
        {
          "output_type": "display_data",
          "data": {
            "text/html": [
              "\n",
              "                    <br/>Synced <strong style=\"color:#cdcd00\">ancient-flower-4</strong>: <a href=\"https://wandb.ai/tamanna/simclr/runs/2tkv7s0n\" target=\"_blank\">https://wandb.ai/tamanna/simclr/runs/2tkv7s0n</a><br/>\n",
              "                "
            ],
            "text/plain": [
              "<IPython.core.display.HTML object>"
            ]
          },
          "metadata": {}
        },
        {
          "output_type": "display_data",
          "data": {
            "text/html": [
              "...Successfully finished last run (ID:2tkv7s0n). Initializing new run:<br/><br/>"
            ],
            "text/plain": [
              "<IPython.core.display.HTML object>"
            ]
          },
          "metadata": {}
        },
        {
          "output_type": "display_data",
          "data": {
            "text/html": [
              "\n",
              "                Tracking run with wandb version 0.12.2<br/>\n",
              "                Syncing run <strong style=\"color:#cdcd00\">unique-mountain-5</strong> to <a href=\"https://wandb.ai\" target=\"_blank\">Weights & Biases</a> <a href=\"https://docs.wandb.com/integrations/jupyter.html\" target=\"_blank\">(Documentation)</a>.<br/>\n",
              "                Project page: <a href=\"https://wandb.ai/tamanna/simclr\" target=\"_blank\">https://wandb.ai/tamanna/simclr</a><br/>\n",
              "                Run page: <a href=\"https://wandb.ai/tamanna/simclr/runs/30zrmm29\" target=\"_blank\">https://wandb.ai/tamanna/simclr/runs/30zrmm29</a><br/>\n",
              "                Run data is saved locally in <code>/content/wandb/run-20210926_012637-30zrmm29</code><br/><br/>\n",
              "            "
            ],
            "text/plain": [
              "<IPython.core.display.HTML object>"
            ]
          },
          "metadata": {}
        },
        {
          "output_type": "execute_result",
          "data": {
            "text/plain": [
              "<wandb.sdk.wandb_run.Run at 0x7f3c405ff690>"
            ],
            "text/html": [
              "<h1>Run(30zrmm29)</h1><iframe src=\"https://wandb.ai/tamanna/simclr/runs/30zrmm29\" style=\"border:none;width:100%;height:400px\"></iframe>"
            ]
          },
          "metadata": {},
          "execution_count": 28
        }
      ]
    },
    {
      "cell_type": "code",
      "metadata": {
        "id": "zfp8gT4ZZtif"
      },
      "source": [
        "def train_simclr(model, dataset, optimizer, criterion,\n",
        "                 temperature=0.1, epochs=50):\n",
        "    step_wise_loss = []\n",
        "    epoch_wise_loss = []\n",
        "\n",
        "    for epoch in tqdm(range(epochs)):\n",
        "        for image_batch in dataset:\n",
        "            a = data_augmentation(image_batch)\n",
        "            b = data_augmentation(image_batch)\n",
        "\n",
        "            loss = train_step(a, b, model, optimizer, criterion, temperature)\n",
        "            step_wise_loss.append(loss)\n",
        "\n",
        "        epoch_wise_loss.append(np.mean(step_wise_loss))\n",
        "        wandb.log({\"nt_xentloss\": np.mean(step_wise_loss)})\n",
        "        \n",
        "        if epoch % 10 == 0:\n",
        "            print(\"epoch: {} loss: {:.3f}\".format(epoch + 1, np.mean(step_wise_loss)))\n",
        "\n",
        "    return epoch_wise_loss, model"
      ],
      "execution_count": 30,
      "outputs": []
    },
    {
      "cell_type": "markdown",
      "metadata": {
        "id": "KGP1k8iU_nwc"
      },
      "source": [
        "Training with 50 epochs due to resource constraints"
      ]
    },
    {
      "cell_type": "markdown",
      "metadata": {
        "id": "atu93xMCgBYj"
      },
      "source": [
        "## Training"
      ]
    },
    {
      "cell_type": "code",
      "metadata": {
        "id": "QKAoeXwJZ5S1",
        "colab": {
          "base_uri": "https://localhost:8080/",
          "height": 392
        },
        "outputId": "122146c1-e93c-48e5-a459-9d7f3c0a4c28"
      },
      "source": [
        "criterion = tf.keras.losses.SparseCategoricalCrossentropy(from_logits=True, \n",
        "                                                          reduction=tf.keras.losses.Reduction.SUM)\n",
        "decay_steps = 1000\n",
        "lr_decayed_fn = tf.keras.experimental.CosineDecay(\n",
        "    initial_learning_rate=0.1, decay_steps=decay_steps)\n",
        "optimizer = tf.keras.optimizers.SGD(lr_decayed_fn)\n",
        "\n",
        "resnet_simclr_2 = get_resnet_simclr(256, 128, 50)\n",
        "\n",
        "epoch_wise_loss, resnet_simclr  = train_simclr(resnet_simclr_2, train_ds, optimizer, criterion,\n",
        "                 temperature=0.1, epochs=50)\n",
        "\n",
        "with plt.xkcd():\n",
        "  \n",
        "    plt.plot(epoch_wise_loss)\n",
        "    plt.title(\"tau = 0.1, h1 = 256, h2 = 128, h3 = 50\")\n",
        "    plt.show()"
      ],
      "execution_count": 31,
      "outputs": [
        {
          "output_type": "stream",
          "name": "stderr",
          "text": [
            "  2%|▏         | 1/50 [01:13<59:41, 73.09s/it]"
          ]
        },
        {
          "output_type": "stream",
          "name": "stdout",
          "text": [
            "epoch: 1 loss: 4.128\n"
          ]
        },
        {
          "output_type": "stream",
          "name": "stderr",
          "text": [
            " 22%|██▏       | 11/50 [10:25<35:59, 55.36s/it]"
          ]
        },
        {
          "output_type": "stream",
          "name": "stdout",
          "text": [
            "epoch: 11 loss: 3.110\n"
          ]
        },
        {
          "output_type": "stream",
          "name": "stderr",
          "text": [
            " 42%|████▏     | 21/50 [19:37<26:41, 55.22s/it]"
          ]
        },
        {
          "output_type": "stream",
          "name": "stdout",
          "text": [
            "epoch: 21 loss: 2.475\n"
          ]
        },
        {
          "output_type": "stream",
          "name": "stderr",
          "text": [
            " 62%|██████▏   | 31/50 [28:50<17:30, 55.28s/it]"
          ]
        },
        {
          "output_type": "stream",
          "name": "stdout",
          "text": [
            "epoch: 31 loss: 2.104\n"
          ]
        },
        {
          "output_type": "stream",
          "name": "stderr",
          "text": [
            " 82%|████████▏ | 41/50 [38:02<08:16, 55.22s/it]"
          ]
        },
        {
          "output_type": "stream",
          "name": "stdout",
          "text": [
            "epoch: 41 loss: 1.899\n"
          ]
        },
        {
          "output_type": "stream",
          "name": "stderr",
          "text": [
            "100%|██████████| 50/50 [46:19<00:00, 55.58s/it]\n"
          ]
        },
        {
          "output_type": "display_data",
          "data": {
            "image/png": "[encoded data removed]",
            "text/plain": [
              "<Figure size 432x288 with 1 Axes>"
            ]
          },
          "metadata": {}
        }
      ]
    },
    {
      "cell_type": "markdown",
      "metadata": {
        "id": "HXCy84vvgBYo"
      },
      "source": [
        "## Store the weights to a safe place :)"
      ]
    },
    {
      "cell_type": "code",
      "metadata": {
        "id": "D-zrHcxhaSUh",
        "colab": {
          "base_uri": "https://localhost:8080/"
        },
        "outputId": "d6a254b4-fbfb-4169-ea7e-ea124fd71d83"
      },
      "source": [
        "from google.colab import auth\n",
        "auth.authenticate_user()\n",
        "\n",
        "PROJECT_ID = \"fast-ai-exploration\" \n",
        "!gcloud config set project $PROJECT_ID"
      ],
      "execution_count": 32,
      "outputs": [
        {
          "output_type": "stream",
          "name": "stdout",
          "text": [
            "Updated property [core/project].\n",
            "\u001b[1;33mWARNING:\u001b[0m You do not appear to have access to project [fast-ai-exploration] or it does not exist.\n"
          ]
        }
      ]
    },
    {
      "cell_type": "code",
      "metadata": {
        "id": "_OyIyB-kkHuN",
        "colab": {
          "base_uri": "https://localhost:8080/",
          "height": 35
        },
        "outputId": "7c25170d-137e-4358-808d-707ebd2365de"
      },
      "source": [
        "import datetime\n",
        "filename = datetime.datetime.now().strftime(\"%Y%m%d-%H%M%S\") + \"simclr.h5\"\n",
        "filename"
      ],
      "execution_count": 33,
      "outputs": [
        {
          "output_type": "execute_result",
          "data": {
            "application/vnd.google.colaboratory.intrinsic+json": {
              "type": "string"
            },
            "text/plain": [
              "'20210926-024254simclr.h5'"
            ]
          },
          "metadata": {},
          "execution_count": 33
        }
      ]
    },
    {
      "cell_type": "markdown",
      "metadata": {
        "id": "EwhWlGTdGOTj"
      },
      "source": [
        "####Saving model weights"
      ]
    },
    {
      "cell_type": "code",
      "metadata": {
        "id": "CdkBEeB5sMU4",
        "colab": {
          "base_uri": "https://localhost:8080/"
        },
        "outputId": "fcdd8ebb-2d3d-4506-d0f2-1b72f3ce735c"
      },
      "source": [
        "resnet_simclr.save_weights(filename)\n",
        "wandb.save(filename)"
      ],
      "execution_count": 34,
      "outputs": [
        {
          "output_type": "execute_result",
          "data": {
            "text/plain": [
              "['/content/wandb/run-20210926_012637-30zrmm29/files/20210926-024254simclr.h5']"
            ]
          },
          "metadata": {},
          "execution_count": 34
        }
      ]
    },
    {
      "cell_type": "markdown",
      "metadata": {
        "id": "RNt8vi0DC5f8"
      },
      "source": [
        "## Linear Projections of the saved model \n",
        "\n",
        "\n",
        "\n"
      ]
    },
    {
      "cell_type": "markdown",
      "metadata": {
        "id": "6Msx4GowCsWs"
      },
      "source": [
        "Restoring the weights from wandb"
      ]
    },
    {
      "cell_type": "code",
      "metadata": {
        "id": "RWT_QGhY_iWj"
      },
      "source": [
        "simclr_weights = wandb.restore(\"20210926-024254simclr.h5\", run_path=\"tamanna/simclr/30zrmm29\")"
      ],
      "execution_count": 41,
      "outputs": []
    },
    {
      "cell_type": "code",
      "metadata": {
        "colab": {
          "base_uri": "https://localhost:8080/"
        },
        "id": "tPZ2Nu1aCxP9",
        "outputId": "6d629dda-a81e-43a4-f367-1e9191a938b7"
      },
      "source": [
        "# 10% of the dataset\n",
        "train_images_10 = np.random.choice(train_images, len(train_images)//10)\n",
        "len(train_images_10)"
      ],
      "execution_count": 42,
      "outputs": [
        {
          "output_type": "execute_result",
          "data": {
            "text/plain": [
              "125"
            ]
          },
          "metadata": {},
          "execution_count": 42
        }
      ]
    },
    {
      "cell_type": "code",
      "metadata": {
        "id": "c1pzSjRTDEJt"
      },
      "source": [
        "def prepare_images(image_paths):\n",
        "    images = []\n",
        "    labels = []\n",
        "\n",
        "    for image in tqdm(image_paths):\n",
        "        image_pixels = plt.imread(image)\n",
        "        image_pixels = cv2.resize(image_pixels, (224, 224))\n",
        "        image_pixels = image_pixels/255.\n",
        "\n",
        "        label = image.split(\"/\")[2].split(\"_\")[0]\n",
        "\n",
        "        images.append(image_pixels)\n",
        "        labels.append(label)\n",
        "\n",
        "    images = np.array(images)\n",
        "    labels = np.array(labels)\n",
        "\n",
        "    print(images.shape, labels.shape)\n",
        "\n",
        "    return images, labels"
      ],
      "execution_count": 43,
      "outputs": []
    },
    {
      "cell_type": "markdown",
      "metadata": {
        "id": "EmJEsSVJDaox"
      },
      "source": [
        "Loading Test images"
      ]
    },
    {
      "cell_type": "code",
      "metadata": {
        "colab": {
          "base_uri": "https://localhost:8080/"
        },
        "id": "IbeaLcmfDVJx",
        "outputId": "ac6e7c01-0202-4752-995f-06b66865a5f7"
      },
      "source": [
        "test_images = list(paths.list_images(\"imagenet-5-categories/test\"))\n",
        "print(len(test_images))"
      ],
      "execution_count": 46,
      "outputs": [
        {
          "output_type": "stream",
          "name": "stdout",
          "text": [
            "250\n"
          ]
        }
      ]
    },
    {
      "cell_type": "code",
      "metadata": {
        "colab": {
          "base_uri": "https://localhost:8080/"
        },
        "id": "vpwfSUv9DHMz",
        "outputId": "f47678f3-1feb-45ee-8058-a5f3b6a1c485"
      },
      "source": [
        "X_train, y_train = prepare_images(train_images_10)\n",
        "X_test, y_test = prepare_images(test_images)"
      ],
      "execution_count": 47,
      "outputs": [
        {
          "output_type": "stream",
          "name": "stderr",
          "text": [
            "100%|██████████| 125/125 [00:00<00:00, 189.81it/s]\n"
          ]
        },
        {
          "output_type": "stream",
          "name": "stdout",
          "text": [
            "(125, 224, 224, 3) (125,)\n"
          ]
        },
        {
          "output_type": "stream",
          "name": "stderr",
          "text": [
            "100%|██████████| 250/250 [00:01<00:00, 181.82it/s]\n"
          ]
        },
        {
          "output_type": "stream",
          "name": "stdout",
          "text": [
            "(250, 224, 224, 3) (250,)\n"
          ]
        }
      ]
    },
    {
      "cell_type": "code",
      "metadata": {
        "id": "Psmp3uYKDfcn"
      },
      "source": [
        "from sklearn.preprocessing import LabelEncoder\n",
        "le = LabelEncoder()\n",
        "y_train_enc = le.fit_transform(y_train)\n",
        "y_test_enc = le.transform(y_test)"
      ],
      "execution_count": 50,
      "outputs": []
    },
    {
      "cell_type": "code",
      "metadata": {
        "colab": {
          "base_uri": "https://localhost:8080/"
        },
        "id": "GepJrVydDfe4",
        "outputId": "d728aa86-70b7-4f12-bb07-0b4b3657fb86"
      },
      "source": [
        "resnet_simclr = get_resnet_simclr(256, 128, 50)\n",
        "resnet_simclr.load_weights(simclr_weights.name)\n",
        "resnet_simclr.summary()"
      ],
      "execution_count": 51,
      "outputs": [
        {
          "output_type": "stream",
          "name": "stdout",
          "text": [
            "Model: \"model_2\"\n",
            "_________________________________________________________________\n",
            "Layer (type)                 Output Shape              Param #   \n",
            "=================================================================\n",
            "input_6 (InputLayer)         [(None, 224, 224, 3)]     0         \n",
            "_________________________________________________________________\n",
            "resnet50 (Functional)        (None, 7, 7, 2048)        23587712  \n",
            "_________________________________________________________________\n",
            "global_average_pooling2d_2 ( (None, 2048)              0         \n",
            "_________________________________________________________________\n",
            "dense_6 (Dense)              (None, 256)               524544    \n",
            "_________________________________________________________________\n",
            "activation_4 (Activation)    (None, 256)               0         \n",
            "_________________________________________________________________\n",
            "dense_7 (Dense)              (None, 128)               32896     \n",
            "_________________________________________________________________\n",
            "activation_5 (Activation)    (None, 128)               0         \n",
            "_________________________________________________________________\n",
            "dense_8 (Dense)              (None, 50)                6450      \n",
            "=================================================================\n",
            "Total params: 24,151,602\n",
            "Trainable params: 24,098,482\n",
            "Non-trainable params: 53,120\n",
            "_________________________________________________________________\n"
          ]
        }
      ]
    },
    {
      "cell_type": "code",
      "metadata": {
        "id": "WcJDaarjDfhl"
      },
      "source": [
        "def plot_training(H):\n",
        "\twith plt.xkcd():\n",
        "\t\tplt.plot(H.history[\"loss\"], label=\"train_loss\")\n",
        "\t\tplt.plot(H.history[\"val_loss\"], label=\"val_loss\")\n",
        "\t\tplt.plot(H.history[\"accuracy\"], label=\"train_acc\")\n",
        "\t\tplt.plot(H.history[\"val_accuracy\"], label=\"val_acc\")\n",
        "\t\tplt.title(\"Training Loss and Accuracy\")\n",
        "\t\tplt.xlabel(\"Epoch #\")\n",
        "\t\tplt.ylabel(\"Loss/Accuracy\")\n",
        "\t\tplt.legend(loc=\"lower left\")\n",
        "\t\tplt.show()"
      ],
      "execution_count": 52,
      "outputs": []
    },
    {
      "cell_type": "code",
      "metadata": {
        "id": "ypLXBo06Dflc"
      },
      "source": [
        "def get_linear_model(features):\n",
        "    linear_model = Sequential([Dense(5, input_shape=(features, ), activation=\"softmax\")])\n",
        "    return linear_model"
      ],
      "execution_count": 53,
      "outputs": []
    },
    {
      "cell_type": "code",
      "metadata": {
        "colab": {
          "base_uri": "https://localhost:8080/"
        },
        "id": "Ly1oYcl7Dfor",
        "outputId": "6f3c4cff-22b0-4bd7-9a2c-fd6421fe48c7"
      },
      "source": [
        "resnet_simclr.layers[1].trainable = False\n",
        "resnet_simclr.summary()"
      ],
      "execution_count": 54,
      "outputs": [
        {
          "output_type": "stream",
          "name": "stdout",
          "text": [
            "Model: \"model_2\"\n",
            "_________________________________________________________________\n",
            "Layer (type)                 Output Shape              Param #   \n",
            "=================================================================\n",
            "input_6 (InputLayer)         [(None, 224, 224, 3)]     0         \n",
            "_________________________________________________________________\n",
            "resnet50 (Functional)        (None, 7, 7, 2048)        23587712  \n",
            "_________________________________________________________________\n",
            "global_average_pooling2d_2 ( (None, 2048)              0         \n",
            "_________________________________________________________________\n",
            "dense_6 (Dense)              (None, 256)               524544    \n",
            "_________________________________________________________________\n",
            "activation_4 (Activation)    (None, 256)               0         \n",
            "_________________________________________________________________\n",
            "dense_7 (Dense)              (None, 128)               32896     \n",
            "_________________________________________________________________\n",
            "activation_5 (Activation)    (None, 128)               0         \n",
            "_________________________________________________________________\n",
            "dense_8 (Dense)              (None, 50)                6450      \n",
            "=================================================================\n",
            "Total params: 24,151,602\n",
            "Trainable params: 563,890\n",
            "Non-trainable params: 23,587,712\n",
            "_________________________________________________________________\n"
          ]
        }
      ]
    },
    {
      "cell_type": "code",
      "metadata": {
        "colab": {
          "base_uri": "https://localhost:8080/"
        },
        "id": "4U0-Dz9kEAGc",
        "outputId": "d6ca0090-ab04-48f4-9a96-78e6a8dbcc32"
      },
      "source": [
        "# Encoder model with non-linear projections\n",
        "projection = Model(resnet_simclr.input, resnet_simclr.layers[-2].output)\n",
        "\n",
        "# Extract train and test features\n",
        "train_features = projection.predict(X_train)\n",
        "test_features = projection.predict(X_test)\n",
        "\n",
        "print(train_features.shape, test_features.shape)"
      ],
      "execution_count": 55,
      "outputs": [
        {
          "output_type": "stream",
          "name": "stdout",
          "text": [
            "(125, 128) (250, 128)\n"
          ]
        }
      ]
    },
    {
      "cell_type": "code",
      "metadata": {
        "id": "OiVQxDwZEE8k"
      },
      "source": [
        "# Early Stopping to prevent overfitting\n",
        "es = tf.keras.callbacks.EarlyStopping(monitor=\"val_loss\", patience=2, verbose=2, restore_best_weights=True)"
      ],
      "execution_count": 56,
      "outputs": []
    },
    {
      "cell_type": "code",
      "metadata": {
        "colab": {
          "base_uri": "https://localhost:8080/",
          "height": 1000,
          "referenced_widgets": [
            "ae54a7726a8d48bcb0d6933d96d713e5",
            "347506ec2f9c46e890091f3946bdb57b",
            "13f1cc9d904243068912527c8cb9df19",
            "c9f10ce991a245259e8dc9c4de489e5b",
            "98d2d789f2054506acc3a7fd8eb3465c",
            "25b6f6d2f65048539371b8bd88db34d9",
            "46fa06b480464e7bad201693242ffd95",
            "657e744ec0384b8ea1fd5452eb6ffb47"
          ]
        },
        "id": "iM58ZLakEH0f",
        "outputId": "465ebf5a-84fd-432b-c502-2fd55564cc3f"
      },
      "source": [
        "# Linear model\n",
        "from wandb.keras import WandbCallback\n",
        "wandb.init(project=\"simclr\", id=\"linear-eval-relu-last\")\n",
        "\n",
        "linear_model = get_linear_model(128)\n",
        "linear_model.compile(loss=\"sparse_categorical_crossentropy\", metrics=[\"accuracy\"],\n",
        "                     optimizer=\"adam\")\n",
        "history = linear_model.fit(train_features, y_train_enc,\n",
        "                 validation_data=(test_features, y_test_enc),\n",
        "                 batch_size=64,\n",
        "                 epochs=35,\n",
        "                 callbacks=[es, WandbCallback()])\n",
        "plot_training(history)"
      ],
      "execution_count": 58,
      "outputs": [
        {
          "output_type": "display_data",
          "data": {
            "text/html": [
              "Finishing last run (ID:linear-eval-relu-last) before initializing another..."
            ],
            "text/plain": [
              "<IPython.core.display.HTML object>"
            ]
          },
          "metadata": {}
        },
        {
          "output_type": "display_data",
          "data": {
            "text/html": [
              "<br/>Waiting for W&B process to finish, PID 1763<br/>Program ended successfully."
            ],
            "text/plain": [
              "<IPython.core.display.HTML object>"
            ]
          },
          "metadata": {}
        },
        {
          "output_type": "display_data",
          "data": {
            "application/vnd.jupyter.widget-view+json": {
              "model_id": "ae54a7726a8d48bcb0d6933d96d713e5",
              "version_minor": 0,
              "version_major": 2
            },
            "text/plain": [
              "VBox(children=(Label(value=' 0.00MB of 0.00MB uploaded (0.00MB deduped)\\r'), FloatProgress(value=1.0, max=1.0)…"
            ]
          },
          "metadata": {}
        },
        {
          "output_type": "display_data",
          "data": {
            "text/html": [
              "Find user logs for this run at: <code>/content/wandb/run-20210926_030532-linear-eval-relu-last/logs/debug.log</code>"
            ],
            "text/plain": [
              "<IPython.core.display.HTML object>"
            ]
          },
          "metadata": {}
        },
        {
          "output_type": "display_data",
          "data": {
            "text/html": [
              "Find internal logs for this run at: <code>/content/wandb/run-20210926_030532-linear-eval-relu-last/logs/debug-internal.log</code>"
            ],
            "text/plain": [
              "<IPython.core.display.HTML object>"
            ]
          },
          "metadata": {}
        },
        {
          "output_type": "display_data",
          "data": {
            "text/html": [
              "Synced 4 W&B file(s), 0 media file(s), 0 artifact file(s) and 0 other file(s)"
            ],
            "text/plain": [
              "<IPython.core.display.HTML object>"
            ]
          },
          "metadata": {}
        },
        {
          "output_type": "display_data",
          "data": {
            "text/html": [
              "\n",
              "                    <br/>Synced <strong style=\"color:#cdcd00\">linear-eval-relu-last</strong>: <a href=\"https://wandb.ai/tamanna/simclr/runs/linear-eval-relu-last\" target=\"_blank\">https://wandb.ai/tamanna/simclr/runs/linear-eval-relu-last</a><br/>\n",
              "                "
            ],
            "text/plain": [
              "<IPython.core.display.HTML object>"
            ]
          },
          "metadata": {}
        },
        {
          "output_type": "display_data",
          "data": {
            "text/html": [
              "...Successfully finished last run (ID:linear-eval-relu-last). Initializing new run:<br/><br/>"
            ],
            "text/plain": [
              "<IPython.core.display.HTML object>"
            ]
          },
          "metadata": {}
        },
        {
          "output_type": "display_data",
          "data": {
            "text/html": [
              "\n",
              "                Tracking run with wandb version 0.12.2<br/>\n",
              "                Syncing run <strong style=\"color:#cdcd00\">linear-eval-relu-last</strong> to <a href=\"https://wandb.ai\" target=\"_blank\">Weights & Biases</a> <a href=\"https://docs.wandb.com/integrations/jupyter.html\" target=\"_blank\">(Documentation)</a>.<br/>\n",
              "                Project page: <a href=\"https://wandb.ai/tamanna/simclr\" target=\"_blank\">https://wandb.ai/tamanna/simclr</a><br/>\n",
              "                Run page: <a href=\"https://wandb.ai/tamanna/simclr/runs/linear-eval-relu-last\" target=\"_blank\">https://wandb.ai/tamanna/simclr/runs/linear-eval-relu-last</a><br/>\n",
              "                Run data is saved locally in <code>/content/wandb/run-20210926_030601-linear-eval-relu-last</code><br/><br/>\n",
              "            "
            ],
            "text/plain": [
              "<IPython.core.display.HTML object>"
            ]
          },
          "metadata": {}
        },
        {
          "output_type": "stream",
          "name": "stdout",
          "text": [
            "Epoch 1/35\n",
            "2/2 [==============================] - 1s 256ms/step - loss: 6.7604 - accuracy: 0.1760 - val_loss: 6.7635 - val_accuracy: 0.1960\n",
            "Epoch 2/35\n",
            "2/2 [==============================] - 0s 32ms/step - loss: 6.1736 - accuracy: 0.1680 - val_loss: 6.2229 - val_accuracy: 0.1920\n",
            "Epoch 3/35\n",
            "2/2 [==============================] - 0s 47ms/step - loss: 5.6502 - accuracy: 0.1440 - val_loss: 5.7271 - val_accuracy: 0.1760\n",
            "Epoch 4/35\n",
            "2/2 [==============================] - 0s 34ms/step - loss: 5.1947 - accuracy: 0.1520 - val_loss: 5.2767 - val_accuracy: 0.1600\n",
            "Epoch 5/35\n",
            "2/2 [==============================] - 0s 51ms/step - loss: 4.7618 - accuracy: 0.2000 - val_loss: 4.8803 - val_accuracy: 0.1360\n",
            "Epoch 6/35\n",
            "2/2 [==============================] - 0s 32ms/step - loss: 4.4015 - accuracy: 0.2080 - val_loss: 4.5382 - val_accuracy: 0.1400\n",
            "Epoch 7/35\n",
            "2/2 [==============================] - 0s 36ms/step - loss: 4.1006 - accuracy: 0.1760 - val_loss: 4.2497 - val_accuracy: 0.1600\n",
            "Epoch 8/35\n",
            "2/2 [==============================] - 0s 35ms/step - loss: 3.8307 - accuracy: 0.2000 - val_loss: 4.0067 - val_accuracy: 0.1680\n",
            "Epoch 9/35\n",
            "2/2 [==============================] - 0s 47ms/step - loss: 3.5874 - accuracy: 0.2000 - val_loss: 3.8026 - val_accuracy: 0.1920\n",
            "Epoch 10/35\n",
            "2/2 [==============================] - 0s 41ms/step - loss: 3.3867 - accuracy: 0.1920 - val_loss: 3.6259 - val_accuracy: 0.1960\n",
            "Epoch 11/35\n",
            "2/2 [==============================] - 0s 35ms/step - loss: 3.1958 - accuracy: 0.2000 - val_loss: 3.4673 - val_accuracy: 0.1920\n",
            "Epoch 12/35\n",
            "2/2 [==============================] - 0s 44ms/step - loss: 3.0103 - accuracy: 0.2240 - val_loss: 3.3192 - val_accuracy: 0.2120\n",
            "Epoch 13/35\n",
            "2/2 [==============================] - 0s 40ms/step - loss: 2.8531 - accuracy: 0.2640 - val_loss: 3.1733 - val_accuracy: 0.2320\n",
            "Epoch 14/35\n",
            "2/2 [==============================] - 0s 33ms/step - loss: 2.6910 - accuracy: 0.2640 - val_loss: 3.0242 - val_accuracy: 0.2520\n",
            "Epoch 15/35\n",
            "2/2 [==============================] - 0s 38ms/step - loss: 2.5422 - accuracy: 0.2880 - val_loss: 2.8767 - val_accuracy: 0.2640\n",
            "Epoch 16/35\n",
            "2/2 [==============================] - 0s 32ms/step - loss: 2.3978 - accuracy: 0.3120 - val_loss: 2.7342 - val_accuracy: 0.2840\n",
            "Epoch 17/35\n",
            "2/2 [==============================] - 0s 51ms/step - loss: 2.2566 - accuracy: 0.3280 - val_loss: 2.5990 - val_accuracy: 0.3080\n",
            "Epoch 18/35\n",
            "2/2 [==============================] - 0s 39ms/step - loss: 2.1307 - accuracy: 0.3520 - val_loss: 2.4721 - val_accuracy: 0.3240\n",
            "Epoch 19/35\n",
            "2/2 [==============================] - 0s 50ms/step - loss: 2.0251 - accuracy: 0.3840 - val_loss: 2.3567 - val_accuracy: 0.3320\n",
            "Epoch 20/35\n",
            "2/2 [==============================] - 0s 34ms/step - loss: 1.9232 - accuracy: 0.3920 - val_loss: 2.2545 - val_accuracy: 0.3520\n",
            "Epoch 21/35\n",
            "2/2 [==============================] - 0s 39ms/step - loss: 1.8249 - accuracy: 0.4000 - val_loss: 2.1656 - val_accuracy: 0.3480\n",
            "Epoch 22/35\n",
            "2/2 [==============================] - 0s 35ms/step - loss: 1.7529 - accuracy: 0.4080 - val_loss: 2.0870 - val_accuracy: 0.3360\n",
            "Epoch 23/35\n",
            "2/2 [==============================] - 0s 48ms/step - loss: 1.6779 - accuracy: 0.4240 - val_loss: 2.0193 - val_accuracy: 0.3760\n",
            "Epoch 24/35\n",
            "2/2 [==============================] - 0s 31ms/step - loss: 1.6155 - accuracy: 0.4480 - val_loss: 1.9604 - val_accuracy: 0.4040\n",
            "Epoch 25/35\n",
            "2/2 [==============================] - 0s 34ms/step - loss: 1.5633 - accuracy: 0.4960 - val_loss: 1.9100 - val_accuracy: 0.4040\n",
            "Epoch 26/35\n",
            "2/2 [==============================] - 0s 46ms/step - loss: 1.5111 - accuracy: 0.5200 - val_loss: 1.8662 - val_accuracy: 0.4120\n",
            "Epoch 27/35\n",
            "2/2 [==============================] - 0s 36ms/step - loss: 1.4659 - accuracy: 0.5200 - val_loss: 1.8286 - val_accuracy: 0.4200\n",
            "Epoch 28/35\n",
            "2/2 [==============================] - 0s 43ms/step - loss: 1.4264 - accuracy: 0.5360 - val_loss: 1.7955 - val_accuracy: 0.4280\n",
            "Epoch 29/35\n",
            "2/2 [==============================] - 0s 47ms/step - loss: 1.3904 - accuracy: 0.5360 - val_loss: 1.7665 - val_accuracy: 0.4360\n",
            "Epoch 30/35\n",
            "2/2 [==============================] - 0s 38ms/step - loss: 1.3594 - accuracy: 0.5440 - val_loss: 1.7424 - val_accuracy: 0.4440\n",
            "Epoch 31/35\n",
            "2/2 [==============================] - 0s 34ms/step - loss: 1.3350 - accuracy: 0.5440 - val_loss: 1.7223 - val_accuracy: 0.4520\n",
            "Epoch 32/35\n",
            "2/2 [==============================] - 0s 44ms/step - loss: 1.3063 - accuracy: 0.5280 - val_loss: 1.7028 - val_accuracy: 0.4520\n",
            "Epoch 33/35\n",
            "2/2 [==============================] - 0s 44ms/step - loss: 1.2862 - accuracy: 0.5280 - val_loss: 1.6848 - val_accuracy: 0.4600\n",
            "Epoch 34/35\n",
            "2/2 [==============================] - 0s 33ms/step - loss: 1.2645 - accuracy: 0.5280 - val_loss: 1.6687 - val_accuracy: 0.4640\n",
            "Epoch 35/35\n",
            "2/2 [==============================] - 0s 34ms/step - loss: 1.2458 - accuracy: 0.5360 - val_loss: 1.6553 - val_accuracy: 0.4600\n"
          ]
        },
        {
          "output_type": "display_data",
          "data": {
            "image/png": "[encoded data removed]",
            "text/plain": [
              "<Figure size 432x288 with 1 Axes>"
            ]
          },
          "metadata": {}
        }
      ]
    },
    {
      "cell_type": "code",
      "metadata": {
        "colab": {
          "base_uri": "https://localhost:8080/"
        },
        "id": "W0FVqXYSEVR1",
        "outputId": "9c763f01-a3a8-427b-9b56-25e66273b9b5"
      },
      "source": [
        "# Encoder model with less non-linearity\n",
        "projection = Model(resnet_simclr.input, resnet_simclr.layers[-4].output)\n",
        "\n",
        "# Extract train and test features\n",
        "train_features = projection.predict(X_train)\n",
        "test_features = projection.predict(X_test)\n",
        "\n",
        "print(train_features.shape, test_features.shape)"
      ],
      "execution_count": 59,
      "outputs": [
        {
          "output_type": "stream",
          "name": "stdout",
          "text": [
            "(125, 256) (250, 256)\n"
          ]
        }
      ]
    },
    {
      "cell_type": "code",
      "metadata": {
        "colab": {
          "base_uri": "https://localhost:8080/",
          "height": 1000,
          "referenced_widgets": [
            "9989979dd7ee4ae8a57e65035e257f4e",
            "6d74d8d25ce64a5dba591fafc0952c52",
            "12f2489e27ea4fc4b8fde910cd0a164c",
            "8b035a91015a43c0a64d174b9498fd47",
            "705926c3b2574e0eb991efe4305bcd48",
            "82dcdbcd0b124593af9f18c68dc42e08",
            "e0d9643ad6d84d6386aa51164f242810",
            "59630fdc913e4640a17671cc546d765d"
          ]
        },
        "id": "UbyzKyKzEYNC",
        "outputId": "2fcc4775-5048-49be-8c12-86391ade2bac"
      },
      "source": [
        "wandb.init(project=\"simclr\", id=\"linear-eval-relu-second-last\")\n",
        "\n",
        "linear_model = get_linear_model(256)\n",
        "linear_model.compile(loss=\"sparse_categorical_crossentropy\", metrics=[\"accuracy\"],\n",
        "                     optimizer=\"adam\")\n",
        "history = linear_model.fit(train_features, y_train_enc,\n",
        "                 validation_data=(test_features, y_test_enc),\n",
        "                 batch_size=64,\n",
        "                 epochs=35,\n",
        "                 callbacks=[es, WandbCallback()])\n",
        "plot_training(history)"
      ],
      "execution_count": 60,
      "outputs": [
        {
          "output_type": "display_data",
          "data": {
            "text/html": [
              "Finishing last run (ID:linear-eval-relu-last) before initializing another..."
            ],
            "text/plain": [
              "<IPython.core.display.HTML object>"
            ]
          },
          "metadata": {}
        },
        {
          "output_type": "display_data",
          "data": {
            "text/html": [
              "<br/>Waiting for W&B process to finish, PID 1805<br/>Program ended successfully."
            ],
            "text/plain": [
              "<IPython.core.display.HTML object>"
            ]
          },
          "metadata": {}
        },
        {
          "output_type": "display_data",
          "data": {
            "application/vnd.jupyter.widget-view+json": {
              "model_id": "9989979dd7ee4ae8a57e65035e257f4e",
              "version_minor": 0,
              "version_major": 2
            },
            "text/plain": [
              "VBox(children=(Label(value=' 0.03MB of 0.03MB uploaded (0.00MB deduped)\\r'), FloatProgress(value=1.0, max=1.0)…"
            ]
          },
          "metadata": {}
        },
        {
          "output_type": "display_data",
          "data": {
            "text/html": [
              "Find user logs for this run at: <code>/content/wandb/run-20210926_030601-linear-eval-relu-last/logs/debug.log</code>"
            ],
            "text/plain": [
              "<IPython.core.display.HTML object>"
            ]
          },
          "metadata": {}
        },
        {
          "output_type": "display_data",
          "data": {
            "text/html": [
              "Find internal logs for this run at: <code>/content/wandb/run-20210926_030601-linear-eval-relu-last/logs/debug-internal.log</code>"
            ],
            "text/plain": [
              "<IPython.core.display.HTML object>"
            ]
          },
          "metadata": {}
        },
        {
          "output_type": "display_data",
          "data": {
            "text/html": [
              "<h3>Run summary:</h3><br/><style>\n",
              "    table.wandb td:nth-child(1) { padding: 0 10px; text-align: right }\n",
              "    </style><table class=\"wandb\">\n",
              "<tr><td>accuracy</td><td>0.536</td></tr><tr><td>best_epoch</td><td>34</td></tr><tr><td>best_val_loss</td><td>1.65528</td></tr><tr><td>epoch</td><td>34</td></tr><tr><td>loss</td><td>1.24578</td></tr><tr><td>val_accuracy</td><td>0.46</td></tr><tr><td>val_loss</td><td>1.65528</td></tr></table>"
            ],
            "text/plain": [
              "<IPython.core.display.HTML object>"
            ]
          },
          "metadata": {}
        },
        {
          "output_type": "display_data",
          "data": {
            "text/html": [
              "<h3>Run history:</h3><br/><style>\n",
              "    table.wandb td:nth-child(1) { padding: 0 10px; text-align: right }\n",
              "    </style><table class=\"wandb\">\n",
              "<tr><td>accuracy</td><td>▂▁▁▁▂▂▂▂▂▂▂▂▃▃▄▄▄▅▅▅▅▆▆▆▇██████████</td></tr><tr><td>epoch</td><td>▁▁▁▂▂▂▂▂▃▃▃▃▃▄▄▄▄▅▅▅▅▅▆▆▆▆▆▇▇▇▇▇███</td></tr><tr><td>loss</td><td>█▇▇▆▅▅▅▄▄▄▃▃▃▃▃▂▂▂▂▂▂▂▂▁▁▁▁▁▁▁▁▁▁▁▁</td></tr><tr><td>val_accuracy</td><td>▂▂▂▂▁▁▂▂▂▂▂▃▃▃▄▄▅▅▅▆▆▅▆▇▇▇▇▇▇██████</td></tr><tr><td>val_loss</td><td>█▇▇▆▅▅▅▄▄▄▃▃▃▃▃▂▂▂▂▂▂▂▁▁▁▁▁▁▁▁▁▁▁▁▁</td></tr></table><br/>"
            ],
            "text/plain": [
              "<IPython.core.display.HTML object>"
            ]
          },
          "metadata": {}
        },
        {
          "output_type": "display_data",
          "data": {
            "text/html": [
              "Synced 5 W&B file(s), 1 media file(s), 0 artifact file(s) and 1 other file(s)"
            ],
            "text/plain": [
              "<IPython.core.display.HTML object>"
            ]
          },
          "metadata": {}
        },
        {
          "output_type": "display_data",
          "data": {
            "text/html": [
              "\n",
              "                    <br/>Synced <strong style=\"color:#cdcd00\">linear-eval-relu-last</strong>: <a href=\"https://wandb.ai/tamanna/simclr/runs/linear-eval-relu-last\" target=\"_blank\">https://wandb.ai/tamanna/simclr/runs/linear-eval-relu-last</a><br/>\n",
              "                "
            ],
            "text/plain": [
              "<IPython.core.display.HTML object>"
            ]
          },
          "metadata": {}
        },
        {
          "output_type": "display_data",
          "data": {
            "text/html": [
              "...Successfully finished last run (ID:linear-eval-relu-last). Initializing new run:<br/><br/>"
            ],
            "text/plain": [
              "<IPython.core.display.HTML object>"
            ]
          },
          "metadata": {}
        },
        {
          "output_type": "display_data",
          "data": {
            "text/html": [
              "\n",
              "                Tracking run with wandb version 0.12.2<br/>\n",
              "                Syncing run <strong style=\"color:#cdcd00\">linear-eval-relu-second-last</strong> to <a href=\"https://wandb.ai\" target=\"_blank\">Weights & Biases</a> <a href=\"https://docs.wandb.com/integrations/jupyter.html\" target=\"_blank\">(Documentation)</a>.<br/>\n",
              "                Project page: <a href=\"https://wandb.ai/tamanna/simclr\" target=\"_blank\">https://wandb.ai/tamanna/simclr</a><br/>\n",
              "                Run page: <a href=\"https://wandb.ai/tamanna/simclr/runs/linear-eval-relu-second-last\" target=\"_blank\">https://wandb.ai/tamanna/simclr/runs/linear-eval-relu-second-last</a><br/>\n",
              "                Run data is saved locally in <code>/content/wandb/run-20210926_030638-linear-eval-relu-second-last</code><br/><br/>\n",
              "            "
            ],
            "text/plain": [
              "<IPython.core.display.HTML object>"
            ]
          },
          "metadata": {}
        },
        {
          "output_type": "stream",
          "name": "stdout",
          "text": [
            "Epoch 1/35\n",
            "2/2 [==============================] - 1s 224ms/step - loss: 5.0155 - accuracy: 0.1600 - val_loss: 4.5410 - val_accuracy: 0.2120\n",
            "Epoch 2/35\n",
            "1/2 [==============>...............] - ETA: 0s - loss: 4.4540 - accuracy: 0.2656WARNING:tensorflow:Callback method `on_train_batch_end` is slow compared to the batch time (batch time: 0.0027s vs `on_train_batch_end` time: 0.0033s). Check your callbacks.\n",
            "2/2 [==============================] - 0s 39ms/step - loss: 4.2815 - accuracy: 0.2080 - val_loss: 3.8833 - val_accuracy: 0.2520\n",
            "Epoch 3/35\n",
            "2/2 [==============================] - 0s 41ms/step - loss: 3.7112 - accuracy: 0.2240 - val_loss: 3.3962 - val_accuracy: 0.2520\n",
            "Epoch 4/35\n",
            "2/2 [==============================] - 0s 34ms/step - loss: 3.2412 - accuracy: 0.2400 - val_loss: 3.1027 - val_accuracy: 0.2680\n",
            "Epoch 5/35\n",
            "2/2 [==============================] - 0s 34ms/step - loss: 2.9602 - accuracy: 0.2800 - val_loss: 2.9573 - val_accuracy: 0.2880\n",
            "Epoch 6/35\n",
            "2/2 [==============================] - 0s 38ms/step - loss: 2.8220 - accuracy: 0.3040 - val_loss: 2.8542 - val_accuracy: 0.3000\n",
            "Epoch 7/35\n",
            "2/2 [==============================] - 0s 41ms/step - loss: 2.6904 - accuracy: 0.3200 - val_loss: 2.7159 - val_accuracy: 0.3200\n",
            "Epoch 8/35\n",
            "2/2 [==============================] - 0s 43ms/step - loss: 2.5363 - accuracy: 0.3360 - val_loss: 2.5249 - val_accuracy: 0.3200\n",
            "Epoch 9/35\n",
            "2/2 [==============================] - 0s 34ms/step - loss: 2.3204 - accuracy: 0.3680 - val_loss: 2.3182 - val_accuracy: 0.3080\n",
            "Epoch 10/35\n",
            "2/2 [==============================] - 0s 33ms/step - loss: 2.1147 - accuracy: 0.3600 - val_loss: 2.1273 - val_accuracy: 0.3000\n",
            "Epoch 11/35\n",
            "2/2 [==============================] - 0s 45ms/step - loss: 1.9287 - accuracy: 0.3360 - val_loss: 1.9775 - val_accuracy: 0.2960\n",
            "Epoch 12/35\n",
            "2/2 [==============================] - 0s 45ms/step - loss: 1.7796 - accuracy: 0.3280 - val_loss: 1.8612 - val_accuracy: 0.3360\n",
            "Epoch 13/35\n",
            "2/2 [==============================] - 0s 54ms/step - loss: 1.6642 - accuracy: 0.3760 - val_loss: 1.7697 - val_accuracy: 0.3400\n",
            "Epoch 14/35\n",
            "2/2 [==============================] - 0s 43ms/step - loss: 1.5739 - accuracy: 0.4080 - val_loss: 1.6917 - val_accuracy: 0.3600\n",
            "Epoch 15/35\n",
            "2/2 [==============================] - 0s 32ms/step - loss: 1.5032 - accuracy: 0.4080 - val_loss: 1.6220 - val_accuracy: 0.3800\n",
            "Epoch 16/35\n",
            "2/2 [==============================] - 0s 44ms/step - loss: 1.4280 - accuracy: 0.4320 - val_loss: 1.5605 - val_accuracy: 0.4000\n",
            "Epoch 17/35\n",
            "2/2 [==============================] - 0s 43ms/step - loss: 1.3703 - accuracy: 0.4640 - val_loss: 1.5108 - val_accuracy: 0.4200\n",
            "Epoch 18/35\n",
            "2/2 [==============================] - 0s 46ms/step - loss: 1.3136 - accuracy: 0.4720 - val_loss: 1.4771 - val_accuracy: 0.4320\n",
            "Epoch 19/35\n",
            "2/2 [==============================] - 0s 33ms/step - loss: 1.2676 - accuracy: 0.4960 - val_loss: 1.4522 - val_accuracy: 0.4200\n",
            "Epoch 20/35\n",
            "2/2 [==============================] - 0s 43ms/step - loss: 1.2351 - accuracy: 0.5040 - val_loss: 1.4344 - val_accuracy: 0.4320\n",
            "Epoch 21/35\n",
            "2/2 [==============================] - 0s 40ms/step - loss: 1.2040 - accuracy: 0.5040 - val_loss: 1.4205 - val_accuracy: 0.4440\n",
            "Epoch 22/35\n",
            "2/2 [==============================] - 0s 33ms/step - loss: 1.1775 - accuracy: 0.5200 - val_loss: 1.4074 - val_accuracy: 0.4520\n",
            "Epoch 23/35\n",
            "2/2 [==============================] - 0s 33ms/step - loss: 1.1574 - accuracy: 0.5280 - val_loss: 1.3962 - val_accuracy: 0.4520\n",
            "Epoch 24/35\n",
            "2/2 [==============================] - 0s 33ms/step - loss: 1.1408 - accuracy: 0.5360 - val_loss: 1.3851 - val_accuracy: 0.4440\n",
            "Epoch 25/35\n",
            "2/2 [==============================] - 0s 34ms/step - loss: 1.1236 - accuracy: 0.5440 - val_loss: 1.3707 - val_accuracy: 0.4560\n",
            "Epoch 26/35\n",
            "2/2 [==============================] - 0s 39ms/step - loss: 1.1083 - accuracy: 0.5440 - val_loss: 1.3542 - val_accuracy: 0.4680\n",
            "Epoch 27/35\n",
            "2/2 [==============================] - 0s 32ms/step - loss: 1.0920 - accuracy: 0.5360 - val_loss: 1.3384 - val_accuracy: 0.4720\n",
            "Epoch 28/35\n",
            "2/2 [==============================] - 0s 41ms/step - loss: 1.0797 - accuracy: 0.5520 - val_loss: 1.3257 - val_accuracy: 0.4800\n",
            "Epoch 29/35\n",
            "2/2 [==============================] - 0s 38ms/step - loss: 1.0669 - accuracy: 0.5520 - val_loss: 1.3182 - val_accuracy: 0.4840\n",
            "Epoch 30/35\n",
            "2/2 [==============================] - 0s 34ms/step - loss: 1.0577 - accuracy: 0.5440 - val_loss: 1.3133 - val_accuracy: 0.4760\n",
            "Epoch 31/35\n",
            "2/2 [==============================] - 0s 52ms/step - loss: 1.0491 - accuracy: 0.5360 - val_loss: 1.3113 - val_accuracy: 0.4680\n",
            "Epoch 32/35\n",
            "2/2 [==============================] - 0s 41ms/step - loss: 1.0385 - accuracy: 0.5680 - val_loss: 1.3061 - val_accuracy: 0.4680\n",
            "Epoch 33/35\n",
            "2/2 [==============================] - 0s 37ms/step - loss: 1.0299 - accuracy: 0.5680 - val_loss: 1.2991 - val_accuracy: 0.4880\n",
            "Epoch 34/35\n",
            "2/2 [==============================] - 0s 50ms/step - loss: 1.0206 - accuracy: 0.5760 - val_loss: 1.2937 - val_accuracy: 0.5000\n",
            "Epoch 35/35\n",
            "2/2 [==============================] - 0s 42ms/step - loss: 1.0128 - accuracy: 0.5760 - val_loss: 1.2916 - val_accuracy: 0.4920\n"
          ]
        },
        {
          "output_type": "display_data",
          "data": {
            "image/png": "[encoded data removed]",
            "text/plain": [
              "<Figure size 432x288 with 1 Axes>"
            ]
          },
          "metadata": {}
        }
      ]
    },
    {
      "cell_type": "code",
      "metadata": {
        "colab": {
          "base_uri": "https://localhost:8080/"
        },
        "id": "AAmXpN1NEd2x",
        "outputId": "944831f5-d447-4c33-896e-beaf3732cbab"
      },
      "source": [
        "# Encoder model with no projection\n",
        "projection = Model(resnet_simclr.input, resnet_simclr.layers[-6].output)\n",
        "\n",
        "# Extract train and test features\n",
        "train_features = projection.predict(X_train)\n",
        "test_features = projection.predict(X_test)\n",
        "\n",
        "print(train_features.shape, test_features.shape)"
      ],
      "execution_count": 61,
      "outputs": [
        {
          "output_type": "stream",
          "name": "stdout",
          "text": [
            "(125, 2048) (250, 2048)\n"
          ]
        }
      ]
    },
    {
      "cell_type": "code",
      "metadata": {
        "colab": {
          "base_uri": "https://localhost:8080/",
          "height": 1000,
          "referenced_widgets": [
            "c78722a6b4414592a7b2d06c387a69be",
            "50c4be5b47aa4340a0faff3aa0866ffd",
            "b5c772982e2b4bc691d6b3058f8c4bfa",
            "34657e8d0b1d4f51a03c115e45bf9495",
            "2ef27533eb084f51963c63abdf5df7a0",
            "62b35080606e4e818253f71b7214387a",
            "dbd27b236dd14d74b2b2e3ca91ab66a2",
            "27c871f583a040f581f593f28744329e"
          ]
        },
        "id": "T9lCaT3LEg5n",
        "outputId": "b603fb68-c66a-465d-fe88-9e00c9c7d5b6"
      },
      "source": [
        "wandb.init(project=\"simclr\", id=\"linear-eval-no-projections\")\n",
        "\n",
        "linear_model = get_linear_model(2048)\n",
        "linear_model.compile(loss=\"sparse_categorical_crossentropy\", metrics=[\"accuracy\"],\n",
        "                     optimizer=\"adam\")\n",
        "history = linear_model.fit(train_features, y_train_enc,\n",
        "                 validation_data=(test_features, y_test_enc),\n",
        "                 batch_size=64,\n",
        "                 epochs=35,\n",
        "                 callbacks=[es, WandbCallback()])\n",
        "plot_training(history)"
      ],
      "execution_count": 62,
      "outputs": [
        {
          "output_type": "display_data",
          "data": {
            "text/html": [
              "Finishing last run (ID:linear-eval-relu-second-last) before initializing another..."
            ],
            "text/plain": [
              "<IPython.core.display.HTML object>"
            ]
          },
          "metadata": {}
        },
        {
          "output_type": "display_data",
          "data": {
            "text/html": [
              "<br/>Waiting for W&B process to finish, PID 2042<br/>Program ended successfully."
            ],
            "text/plain": [
              "<IPython.core.display.HTML object>"
            ]
          },
          "metadata": {}
        },
        {
          "output_type": "display_data",
          "data": {
            "application/vnd.jupyter.widget-view+json": {
              "model_id": "c78722a6b4414592a7b2d06c387a69be",
              "version_minor": 0,
              "version_major": 2
            },
            "text/plain": [
              "VBox(children=(Label(value=' 0.03MB of 0.03MB uploaded (0.00MB deduped)\\r'), FloatProgress(value=1.0, max=1.0)…"
            ]
          },
          "metadata": {}
        },
        {
          "output_type": "display_data",
          "data": {
            "text/html": [
              "Find user logs for this run at: <code>/content/wandb/run-20210926_030638-linear-eval-relu-second-last/logs/debug.log</code>"
            ],
            "text/plain": [
              "<IPython.core.display.HTML object>"
            ]
          },
          "metadata": {}
        },
        {
          "output_type": "display_data",
          "data": {
            "text/html": [
              "Find internal logs for this run at: <code>/content/wandb/run-20210926_030638-linear-eval-relu-second-last/logs/debug-internal.log</code>"
            ],
            "text/plain": [
              "<IPython.core.display.HTML object>"
            ]
          },
          "metadata": {}
        },
        {
          "output_type": "display_data",
          "data": {
            "text/html": [
              "<h3>Run summary:</h3><br/><style>\n",
              "    table.wandb td:nth-child(1) { padding: 0 10px; text-align: right }\n",
              "    </style><table class=\"wandb\">\n",
              "<tr><td>accuracy</td><td>0.576</td></tr><tr><td>best_epoch</td><td>34</td></tr><tr><td>best_val_loss</td><td>1.29157</td></tr><tr><td>epoch</td><td>34</td></tr><tr><td>loss</td><td>1.01279</td></tr><tr><td>val_accuracy</td><td>0.492</td></tr><tr><td>val_loss</td><td>1.29157</td></tr></table>"
            ],
            "text/plain": [
              "<IPython.core.display.HTML object>"
            ]
          },
          "metadata": {}
        },
        {
          "output_type": "display_data",
          "data": {
            "text/html": [
              "<h3>Run history:</h3><br/><style>\n",
              "    table.wandb td:nth-child(1) { padding: 0 10px; text-align: right }\n",
              "    </style><table class=\"wandb\">\n",
              "<tr><td>accuracy</td><td>▁▂▂▂▃▃▄▄▅▄▄▄▅▅▅▆▆▆▇▇▇▇▇▇▇▇▇██▇▇████</td></tr><tr><td>epoch</td><td>▁▁▁▂▂▂▂▂▃▃▃▃▃▄▄▄▄▅▅▅▅▅▆▆▆▆▆▇▇▇▇▇███</td></tr><tr><td>loss</td><td>█▇▆▅▄▄▄▄▃▃▃▂▂▂▂▂▂▂▁▁▁▁▁▁▁▁▁▁▁▁▁▁▁▁▁</td></tr><tr><td>val_accuracy</td><td>▁▂▂▂▃▃▄▄▃▃▃▄▄▅▅▆▆▆▆▆▇▇▇▇▇▇▇██▇▇▇███</td></tr><tr><td>val_loss</td><td>█▇▆▅▅▄▄▄▃▃▂▂▂▂▂▂▁▁▁▁▁▁▁▁▁▁▁▁▁▁▁▁▁▁▁</td></tr></table><br/>"
            ],
            "text/plain": [
              "<IPython.core.display.HTML object>"
            ]
          },
          "metadata": {}
        },
        {
          "output_type": "display_data",
          "data": {
            "text/html": [
              "Synced 5 W&B file(s), 1 media file(s), 0 artifact file(s) and 1 other file(s)"
            ],
            "text/plain": [
              "<IPython.core.display.HTML object>"
            ]
          },
          "metadata": {}
        },
        {
          "output_type": "display_data",
          "data": {
            "text/html": [
              "\n",
              "                    <br/>Synced <strong style=\"color:#cdcd00\">linear-eval-relu-second-last</strong>: <a href=\"https://wandb.ai/tamanna/simclr/runs/linear-eval-relu-second-last\" target=\"_blank\">https://wandb.ai/tamanna/simclr/runs/linear-eval-relu-second-last</a><br/>\n",
              "                "
            ],
            "text/plain": [
              "<IPython.core.display.HTML object>"
            ]
          },
          "metadata": {}
        },
        {
          "output_type": "display_data",
          "data": {
            "text/html": [
              "...Successfully finished last run (ID:linear-eval-relu-second-last). Initializing new run:<br/><br/>"
            ],
            "text/plain": [
              "<IPython.core.display.HTML object>"
            ]
          },
          "metadata": {}
        },
        {
          "output_type": "display_data",
          "data": {
            "text/html": [
              "\n",
              "                Tracking run with wandb version 0.12.2<br/>\n",
              "                Syncing run <strong style=\"color:#cdcd00\">linear-eval-no-projections</strong> to <a href=\"https://wandb.ai\" target=\"_blank\">Weights & Biases</a> <a href=\"https://docs.wandb.com/integrations/jupyter.html\" target=\"_blank\">(Documentation)</a>.<br/>\n",
              "                Project page: <a href=\"https://wandb.ai/tamanna/simclr\" target=\"_blank\">https://wandb.ai/tamanna/simclr</a><br/>\n",
              "                Run page: <a href=\"https://wandb.ai/tamanna/simclr/runs/linear-eval-no-projections\" target=\"_blank\">https://wandb.ai/tamanna/simclr/runs/linear-eval-no-projections</a><br/>\n",
              "                Run data is saved locally in <code>/content/wandb/run-20210926_030709-linear-eval-no-projections</code><br/><br/>\n",
              "            "
            ],
            "text/plain": [
              "<IPython.core.display.HTML object>"
            ]
          },
          "metadata": {}
        },
        {
          "output_type": "stream",
          "name": "stdout",
          "text": [
            "Epoch 1/35\n",
            "2/2 [==============================] - 1s 224ms/step - loss: 2.3257 - accuracy: 0.2640 - val_loss: 1.8219 - val_accuracy: 0.2840\n",
            "Epoch 2/35\n",
            "1/2 [==============>...............] - ETA: 0s - loss: 1.8164 - accuracy: 0.2344WARNING:tensorflow:Callback method `on_train_batch_end` is slow compared to the batch time (batch time: 0.0026s vs `on_train_batch_end` time: 0.0040s). Check your callbacks.\n",
            "2/2 [==============================] - 0s 42ms/step - loss: 1.9899 - accuracy: 0.2240 - val_loss: 1.6971 - val_accuracy: 0.4360\n",
            "Epoch 3/35\n",
            "2/2 [==============================] - 0s 49ms/step - loss: 1.5672 - accuracy: 0.4800 - val_loss: 1.4502 - val_accuracy: 0.3920\n",
            "Epoch 4/35\n",
            "2/2 [==============================] - 0s 34ms/step - loss: 1.3846 - accuracy: 0.4480 - val_loss: 1.4158 - val_accuracy: 0.4080\n",
            "Epoch 5/35\n",
            "2/2 [==============================] - 0s 47ms/step - loss: 1.2636 - accuracy: 0.4880 - val_loss: 1.2308 - val_accuracy: 0.5120\n",
            "Epoch 6/35\n",
            "2/2 [==============================] - 0s 35ms/step - loss: 1.1359 - accuracy: 0.5120 - val_loss: 1.1900 - val_accuracy: 0.5280\n",
            "Epoch 7/35\n",
            "2/2 [==============================] - 0s 40ms/step - loss: 1.0856 - accuracy: 0.5280 - val_loss: 1.1656 - val_accuracy: 0.5600\n",
            "Epoch 8/35\n",
            "2/2 [==============================] - 0s 34ms/step - loss: 1.0141 - accuracy: 0.5600 - val_loss: 1.2024 - val_accuracy: 0.5560\n",
            "Epoch 9/35\n",
            "2/2 [==============================] - 0s 44ms/step - loss: 0.9942 - accuracy: 0.5360 - val_loss: 1.1762 - val_accuracy: 0.5400\n",
            "Restoring model weights from the end of the best epoch.\n",
            "Epoch 00009: early stopping\n"
          ]
        },
        {
          "output_type": "display_data",
          "data": {
            "image/png": "[encoded data removed]",
            "text/plain": [
              "<Figure size 432x288 with 1 Axes>"
            ]
          },
          "metadata": {}
        }
      ]
    },
    {
      "cell_type": "markdown",
      "metadata": {
        "id": "rW-RDo1KEnyO"
      },
      "source": [
        "###Visualization of Representation"
      ]
    },
    {
      "cell_type": "code",
      "metadata": {
        "colab": {
          "base_uri": "https://localhost:8080/",
          "height": 1000,
          "referenced_widgets": [
            "7121ba6ba4e445169ffa5c36880cc425",
            "79c137f4b0604c72a9e3cbd1e01046a6",
            "0edf0d806c054218b6e09ae0b0a55a98",
            "2b4ad686898540a7a61d2c344da68d48",
            "c83f5441db0c4e10ab68ef799b4bfd3c",
            "abf37c5f3597491f9257f5ed0a679cc6",
            "d1c89b37bdcc4f4fb06bc047e4b3d5be",
            "3c51c546bc6e46d7842d47b81d200ca8"
          ]
        },
        "id": "t1I9GBs8ElZB",
        "outputId": "b325ca38-fdb1-43b6-add6-07b0c433c61f"
      },
      "source": [
        "wandb.init(project=\"simclr\", id=\"visualization\")"
      ],
      "execution_count": 63,
      "outputs": [
        {
          "output_type": "display_data",
          "data": {
            "text/html": [
              "Finishing last run (ID:linear-eval-no-projections) before initializing another..."
            ],
            "text/plain": [
              "<IPython.core.display.HTML object>"
            ]
          },
          "metadata": {}
        },
        {
          "output_type": "display_data",
          "data": {
            "text/html": [
              "<br/>Waiting for W&B process to finish, PID 2279<br/>Program ended successfully."
            ],
            "text/plain": [
              "<IPython.core.display.HTML object>"
            ]
          },
          "metadata": {}
        },
        {
          "output_type": "display_data",
          "data": {
            "application/vnd.jupyter.widget-view+json": {
              "model_id": "7121ba6ba4e445169ffa5c36880cc425",
              "version_minor": 0,
              "version_major": 2
            },
            "text/plain": [
              "VBox(children=(Label(value=' 0.14MB of 0.14MB uploaded (0.00MB deduped)\\r'), FloatProgress(value=1.0, max=1.0)…"
            ]
          },
          "metadata": {}
        },
        {
          "output_type": "display_data",
          "data": {
            "text/html": [
              "Find user logs for this run at: <code>/content/wandb/run-20210926_030709-linear-eval-no-projections/logs/debug.log</code>"
            ],
            "text/plain": [
              "<IPython.core.display.HTML object>"
            ]
          },
          "metadata": {}
        },
        {
          "output_type": "display_data",
          "data": {
            "text/html": [
              "Find internal logs for this run at: <code>/content/wandb/run-20210926_030709-linear-eval-no-projections/logs/debug-internal.log</code>"
            ],
            "text/plain": [
              "<IPython.core.display.HTML object>"
            ]
          },
          "metadata": {}
        },
        {
          "output_type": "display_data",
          "data": {
            "text/html": [
              "<h3>Run summary:</h3><br/><style>\n",
              "    table.wandb td:nth-child(1) { padding: 0 10px; text-align: right }\n",
              "    </style><table class=\"wandb\">\n",
              "<tr><td>accuracy</td><td>0.536</td></tr><tr><td>best_epoch</td><td>6</td></tr><tr><td>best_val_loss</td><td>1.16558</td></tr><tr><td>epoch</td><td>8</td></tr><tr><td>loss</td><td>0.99419</td></tr><tr><td>val_accuracy</td><td>0.54</td></tr><tr><td>val_loss</td><td>1.1762</td></tr></table>"
            ],
            "text/plain": [
              "<IPython.core.display.HTML object>"
            ]
          },
          "metadata": {}
        },
        {
          "output_type": "display_data",
          "data": {
            "text/html": [
              "<h3>Run history:</h3><br/><style>\n",
              "    table.wandb td:nth-child(1) { padding: 0 10px; text-align: right }\n",
              "    </style><table class=\"wandb\">\n",
              "<tr><td>accuracy</td><td>▂▁▆▆▇▇▇██</td></tr><tr><td>epoch</td><td>▁▂▃▄▅▅▆▇█</td></tr><tr><td>loss</td><td>█▆▄▃▂▂▁▁▁</td></tr><tr><td>val_accuracy</td><td>▁▅▄▄▇▇██▇</td></tr><tr><td>val_loss</td><td>█▇▄▄▂▁▁▁▁</td></tr></table><br/>"
            ],
            "text/plain": [
              "<IPython.core.display.HTML object>"
            ]
          },
          "metadata": {}
        },
        {
          "output_type": "display_data",
          "data": {
            "text/html": [
              "Synced 5 W&B file(s), 1 media file(s), 0 artifact file(s) and 1 other file(s)"
            ],
            "text/plain": [
              "<IPython.core.display.HTML object>"
            ]
          },
          "metadata": {}
        },
        {
          "output_type": "display_data",
          "data": {
            "text/html": [
              "\n",
              "                    <br/>Synced <strong style=\"color:#cdcd00\">linear-eval-no-projections</strong>: <a href=\"https://wandb.ai/tamanna/simclr/runs/linear-eval-no-projections\" target=\"_blank\">https://wandb.ai/tamanna/simclr/runs/linear-eval-no-projections</a><br/>\n",
              "                "
            ],
            "text/plain": [
              "<IPython.core.display.HTML object>"
            ]
          },
          "metadata": {}
        },
        {
          "output_type": "display_data",
          "data": {
            "text/html": [
              "...Successfully finished last run (ID:linear-eval-no-projections). Initializing new run:<br/><br/>"
            ],
            "text/plain": [
              "<IPython.core.display.HTML object>"
            ]
          },
          "metadata": {}
        },
        {
          "output_type": "display_data",
          "data": {
            "text/html": [
              "\n",
              "                Tracking run with wandb version 0.12.2<br/>\n",
              "                Syncing run <strong style=\"color:#cdcd00\">visualization</strong> to <a href=\"https://wandb.ai\" target=\"_blank\">Weights & Biases</a> <a href=\"https://docs.wandb.com/integrations/jupyter.html\" target=\"_blank\">(Documentation)</a>.<br/>\n",
              "                Project page: <a href=\"https://wandb.ai/tamanna/simclr\" target=\"_blank\">https://wandb.ai/tamanna/simclr</a><br/>\n",
              "                Run page: <a href=\"https://wandb.ai/tamanna/simclr/runs/visualization\" target=\"_blank\">https://wandb.ai/tamanna/simclr/runs/visualization</a><br/>\n",
              "                Run data is saved locally in <code>/content/wandb/run-20210926_030812-visualization</code><br/><br/>\n",
              "            "
            ],
            "text/plain": [
              "<IPython.core.display.HTML object>"
            ]
          },
          "metadata": {}
        },
        {
          "output_type": "execute_result",
          "data": {
            "text/plain": [
              "<wandb.sdk.wandb_run.Run at 0x7f3c3d05b9d0>"
            ],
            "text/html": [
              "<h1>Run(visualization)</h1><iframe src=\"https://wandb.ai/tamanna/simclr/runs/visualization\" style=\"border:none;width:100%;height:400px\"></iframe>"
            ]
          },
          "metadata": {},
          "execution_count": 63
        }
      ]
    },
    {
      "cell_type": "code",
      "metadata": {
        "id": "kZ3zHUgKEx3z"
      },
      "source": [
        "# Visualization of the representations\n",
        "def plot_vecs_n_labels(v, labels):\n",
        "    fig = plt.figure(figsize = (10, 10))\n",
        "    sns.set_style(\"darkgrid\")\n",
        "    sns.scatterplot(v[:,0], v[:,1], hue=labels, legend='full', palette=sns.color_palette(\"bright\", 5))\n",
        "    plt.show()\n",
        "\n",
        "    return fig"
      ],
      "execution_count": 64,
      "outputs": []
    },
    {
      "cell_type": "code",
      "metadata": {
        "colab": {
          "base_uri": "https://localhost:8080/",
          "height": 785
        },
        "id": "t_UETNL7E2D1",
        "outputId": "889cfd39-6d66-4cac-b3b7-0fcd569d7d2f"
      },
      "source": [
        "# Representations with no nonlinear projections\n",
        "from sklearn.manifold import TSNE\n",
        "import seaborn as sns\n",
        "tsne = TSNE()\n",
        "low_vectors = tsne.fit_transform(train_features)\n",
        "fig = plot_vecs_n_labels(low_vectors, y_train_enc)\n",
        "wandb.log({\"no_no_linear_projection\": fig})"
      ],
      "execution_count": 67,
      "outputs": [
        {
          "output_type": "stream",
          "name": "stderr",
          "text": [
            "/usr/local/lib/python3.7/dist-packages/seaborn/_decorators.py:43: FutureWarning: Pass the following variables as keyword args: x, y. From version 0.12, the only valid positional argument will be `data`, and passing other arguments without an explicit keyword will result in an error or misinterpretation.\n",
            "  FutureWarning\n"
          ]
        },
        {
          "output_type": "display_data",
          "data": {
            "image/png": "[encoded data removed]",
            "text/plain": [
              "<Figure size 720x720 with 1 Axes>"
            ]
          },
          "metadata": {
            "needs_background": "light"
          }
        },
        {
          "output_type": "stream",
          "name": "stderr",
          "text": [
            "/usr/local/lib/python3.7/dist-packages/plotly/matplotlylib/renderer.py:474: UserWarning:\n",
            "\n",
            "Dang! That path collection is out of this world. I totally don't know what to do with it yet! Plotly can only import path collections linked to 'data' coordinates\n",
            "\n",
            "/usr/local/lib/python3.7/dist-packages/plotly/matplotlylib/renderer.py:512: UserWarning:\n",
            "\n",
            "I found a path object that I don't think is part of a bar chart. Ignoring.\n",
            "\n"
          ]
        }
      ]
    },
    {
      "cell_type": "code",
      "metadata": {
        "colab": {
          "base_uri": "https://localhost:8080/",
          "height": 820
        },
        "id": "alqfMVX-FDMS",
        "outputId": "32c70fac-4f6d-4dfd-89b2-eef59a4946fa"
      },
      "source": [
        "# Representations with the last ReLU\n",
        "tsne = TSNE()\n",
        "projection = Model(resnet_simclr.input, resnet_simclr.layers[-2].output)\n",
        "train_features = projection.predict(X_train)\n",
        "low_vectors = tsne.fit_transform(train_features)\n",
        "fig = plot_vecs_n_labels(low_vectors, y_train_enc)\n",
        "wandb.log({\"last_relu\": fig})"
      ],
      "execution_count": 68,
      "outputs": [
        {
          "output_type": "stream",
          "name": "stderr",
          "text": [
            "/usr/local/lib/python3.7/dist-packages/seaborn/_decorators.py:43: FutureWarning:\n",
            "\n",
            "Pass the following variables as keyword args: x, y. From version 0.12, the only valid positional argument will be `data`, and passing other arguments without an explicit keyword will result in an error or misinterpretation.\n",
            "\n"
          ]
        },
        {
          "output_type": "display_data",
          "data": {
            "image/png": "[encoded data removed]",
            "text/plain": [
              "<Figure size 720x720 with 1 Axes>"
            ]
          },
          "metadata": {}
        },
        {
          "output_type": "stream",
          "name": "stderr",
          "text": [
            "/usr/local/lib/python3.7/dist-packages/plotly/matplotlylib/renderer.py:474: UserWarning:\n",
            "\n",
            "Dang! That path collection is out of this world. I totally don't know what to do with it yet! Plotly can only import path collections linked to 'data' coordinates\n",
            "\n",
            "/usr/local/lib/python3.7/dist-packages/plotly/matplotlylib/renderer.py:512: UserWarning:\n",
            "\n",
            "I found a path object that I don't think is part of a bar chart. Ignoring.\n",
            "\n"
          ]
        }
      ]
    }
  ]
}